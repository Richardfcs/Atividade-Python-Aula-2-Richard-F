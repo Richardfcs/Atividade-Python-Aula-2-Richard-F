{
  "nbformat": 4,
  "nbformat_minor": 0,
  "metadata": {
    "colab": {
      "provenance": [],
      "authorship_tag": "ABX9TyO2/002nhuCyHTp5h+cwYI2",
      "include_colab_link": true
    },
    "kernelspec": {
      "name": "python3",
      "display_name": "Python 3"
    },
    "language_info": {
      "name": "python"
    }
  },
  "cells": [
    {
      "cell_type": "markdown",
      "metadata": {
        "id": "view-in-github",
        "colab_type": "text"
      },
      "source": [
        "<a href=\"https://colab.research.google.com/github/Richardfcs/Atividade-Python-Aula-2-Richard-F/blob/main/AtividadeLab.ipynb\" target=\"_parent\"><img src=\"https://colab.research.google.com/assets/colab-badge.svg\" alt=\"Open In Colab\"/></a>"
      ]
    },
    {
      "cell_type": "code",
      "execution_count": 16,
      "metadata": {
        "colab": {
          "base_uri": "https://localhost:8080/"
        },
        "id": "r5wbsx3ytG4J",
        "outputId": "386a7d49-ec5c-48f5-8ca6-4858cb2357f5"
      },
      "outputs": [
        {
          "name": "stdout",
          "output_type": "stream",
          "text": [
            "digite um número: 3\n",
            "digite outro número: 4\n",
            "digite um número real: 5.5\n"
          ]
        }
      ],
      "source": [
        "numero1 = int(input(\"digite um número: \"))\n",
        "numero2 = int(input(\"digite outro número: \"))\n",
        "numero3 = float(input(\"digite um número real: \"))"
      ]
    },
    {
      "cell_type": "code",
      "source": [
        "a = (2 * numero1) + (numero2 / 2)\n",
        "print(f\"o resultado foi {a}\")"
      ],
      "metadata": {
        "colab": {
          "base_uri": "https://localhost:8080/"
        },
        "id": "XQJTSlk3unG3",
        "outputId": "d7ff217d-ff62-45ee-8f6e-2e83c7d5668f"
      },
      "execution_count": 17,
      "outputs": [
        {
          "output_type": "stream",
          "name": "stdout",
          "text": [
            "o resultado foi 8.0\n"
          ]
        }
      ]
    },
    {
      "cell_type": "code",
      "source": [
        "b = (3 * numero1) + ( numero3 ** 3)\n",
        "print(f\"o resultado foi {b}\")"
      ],
      "metadata": {
        "colab": {
          "base_uri": "https://localhost:8080/"
        },
        "id": "zqV_t3T7vfWy",
        "outputId": "095e5377-3578-4eb5-80d2-596592ffcbc5"
      },
      "execution_count": 19,
      "outputs": [
        {
          "output_type": "stream",
          "name": "stdout",
          "text": [
            "o resultado foi 175.375\n"
          ]
        }
      ]
    },
    {
      "cell_type": "markdown",
      "source": [
        "---"
      ],
      "metadata": {
        "id": "qUUvYDhLwMNJ"
      }
    },
    {
      "cell_type": "markdown",
      "source": [
        "### **2)**\n"
      ],
      "metadata": {
        "id": "1YsHVfBXy6GA"
      }
    },
    {
      "cell_type": "code",
      "source": [
        "numero4 = int(input(\"digite um número: \"))\n",
        "numero5 = int(input(\"digite outro número: \"))\n",
        "\n",
        "numeroMaior = max(numero4, numero5)\n",
        "print(f\"o mairo número é {numeroMaior}\")"
      ],
      "metadata": {
        "colab": {
          "base_uri": "https://localhost:8080/"
        },
        "id": "c4bQTZNNwNR5",
        "outputId": "d1c0992e-2e87-4eb6-9ad8-76ce772c6672"
      },
      "execution_count": 20,
      "outputs": [
        {
          "output_type": "stream",
          "name": "stdout",
          "text": [
            "digite um número: 6\n",
            "digite outro número: 7\n",
            "o mairo número é 7\n"
          ]
        }
      ]
    },
    {
      "cell_type": "markdown",
      "source": [
        "---"
      ],
      "metadata": {
        "id": "ty51Axrkx7oo"
      }
    },
    {
      "cell_type": "markdown",
      "source": [
        "### **3)**"
      ],
      "metadata": {
        "id": "mZSYg9nUzFcm"
      }
    },
    {
      "cell_type": "code",
      "source": [
        "numero6 = int(input(\"digite um número: \"))\n",
        "if (numero6 >= 0) :\n",
        "  print(\"esse número é positivo\")\n",
        "else:\n",
        "  print(\"esse número é negativo\")"
      ],
      "metadata": {
        "colab": {
          "base_uri": "https://localhost:8080/"
        },
        "id": "ogzNJs4BwfsB",
        "outputId": "7b35e0af-f4ff-4dc6-e207-cee32fda3d67"
      },
      "execution_count": 21,
      "outputs": [
        {
          "output_type": "stream",
          "name": "stdout",
          "text": [
            "digite um número: -7\n",
            "esse número é negativo\n"
          ]
        }
      ]
    },
    {
      "cell_type": "markdown",
      "source": [
        "---"
      ],
      "metadata": {
        "id": "0VFIfnj2xPuq"
      }
    },
    {
      "cell_type": "markdown",
      "source": [
        "### **4)**"
      ],
      "metadata": {
        "id": "WIgPoz98zOnH"
      }
    },
    {
      "cell_type": "code",
      "source": [
        "numero7 = int(input(\"digite um número: \"))\n",
        "numero8 = int(input(\"digite outro número: \"))\n",
        "nota = (numero7 + numero8) / 2\n",
        "if (nota >= 7) :\n",
        "  print(\"aprovado\")\n",
        "else:\n",
        "  print(\"reprovado\")"
      ],
      "metadata": {
        "colab": {
          "base_uri": "https://localhost:8080/"
        },
        "id": "ACsHOgegxJ0j",
        "outputId": "6e893136-ac2a-4e2d-ac3a-36bfd50c4f24"
      },
      "execution_count": 22,
      "outputs": [
        {
          "output_type": "stream",
          "name": "stdout",
          "text": [
            "digite um número: 9\n",
            "digite outro número: 5\n",
            "aprovado\n"
          ]
        }
      ]
    },
    {
      "cell_type": "markdown",
      "source": [
        "---"
      ],
      "metadata": {
        "id": "kzY8yoNqxu6x"
      }
    },
    {
      "cell_type": "markdown",
      "source": [
        "### **5)**"
      ],
      "metadata": {
        "id": "fNTXYFq0zVJ5"
      }
    },
    {
      "cell_type": "code",
      "source": [
        "numero9 = int(input(\"digite um número: \"))\n",
        "numero10 = int(input(\"digite outro número: \"))\n",
        "numero11 = float(input(\"digite mais outro número: \"))\n",
        "\n",
        "maiorNumero = max(numero9, numero10, numero11)\n",
        "print(f\"o maior número é {maiorNumero}\")"
      ],
      "metadata": {
        "colab": {
          "base_uri": "https://localhost:8080/"
        },
        "id": "jXk4OfYgxv5w",
        "outputId": "37c429fb-0c11-4de0-9760-e870f9fabf94"
      },
      "execution_count": 23,
      "outputs": [
        {
          "output_type": "stream",
          "name": "stdout",
          "text": [
            "digite um número: 7\n",
            "digite outro número: 5\n",
            "digite mais outro número: 10\n",
            "o maior número é 10.0\n"
          ]
        }
      ]
    }
  ]
}
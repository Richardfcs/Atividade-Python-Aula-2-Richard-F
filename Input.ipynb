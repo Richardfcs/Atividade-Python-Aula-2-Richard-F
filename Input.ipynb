{
  "nbformat": 4,
  "nbformat_minor": 0,
  "metadata": {
    "colab": {
      "provenance": [],
      "authorship_tag": "ABX9TyOEjlIS6qKIBZir/dPSH8+C",
      "include_colab_link": true
    },
    "kernelspec": {
      "name": "python3",
      "display_name": "Python 3"
    },
    "language_info": {
      "name": "python"
    }
  },
  "cells": [
    {
      "cell_type": "markdown",
      "metadata": {
        "id": "view-in-github",
        "colab_type": "text"
      },
      "source": [
        "<a href=\"https://colab.research.google.com/github/Richardfcs/Atividade-Python-Aula-2-Richard-F/blob/main/Input.ipynb\" target=\"_parent\"><img src=\"https://colab.research.google.com/assets/colab-badge.svg\" alt=\"Open In Colab\"/></a>"
      ]
    },
    {
      "cell_type": "code",
      "execution_count": null,
      "metadata": {
        "id": "HxqlhI1wHx4X"
      },
      "outputs": [],
      "source": [
        "valor1 = float(input('digite um número inteiro: '))\n",
        "valor2 = float(input('digite outro número inteiro: '))"
      ]
    },
    {
      "cell_type": "code",
      "source": [
        "print(valor1 == valor2)\n",
        "print(valor1 > valor2)\n",
        "print(valor1 < valor2)\n",
        "print(valor1 >= valor2)\n",
        "print(valor1 <= valor2)"
      ],
      "metadata": {
        "id": "6vO3Ng8QICRb"
      },
      "execution_count": null,
      "outputs": []
    },
    {
      "cell_type": "markdown",
      "source": [
        "---"
      ],
      "metadata": {
        "id": "Wf0sA2J-OIkd"
      }
    },
    {
      "cell_type": "code",
      "source": [
        "numero = 10\n",
        "print(numero>0 and numero <10)\n",
        "print(numero>0 or numero <10)"
      ],
      "metadata": {
        "colab": {
          "base_uri": "https://localhost:8080/"
        },
        "id": "-VCXUkOJOKgD",
        "outputId": "2c786321-3f6f-4b3f-9536-aedd4d030e41"
      },
      "execution_count": null,
      "outputs": [
        {
          "output_type": "stream",
          "name": "stdout",
          "text": [
            "False\n",
            "True\n"
          ]
        }
      ]
    },
    {
      "cell_type": "code",
      "source": [
        "numero = int(input(\"Escolha um número: \"))\n",
        "if (numero%2 == 0):\n",
        "  print(\"o número é par\")\n",
        "else:\n",
        "    print(\"o número é impar\")"
      ],
      "metadata": {
        "colab": {
          "base_uri": "https://localhost:8080/"
        },
        "id": "j7FVPyW5SGD2",
        "outputId": "df68b643-0f2a-4f39-8579-e4ae9b3d66a1"
      },
      "execution_count": null,
      "outputs": [
        {
          "output_type": "stream",
          "name": "stdout",
          "text": [
            "Escolha um número: 1\n",
            "o número é impar\n"
          ]
        }
      ]
    },
    {
      "cell_type": "markdown",
      "source": [
        "---"
      ],
      "metadata": {
        "id": "AdDgmzjPYPQn"
      }
    },
    {
      "cell_type": "code",
      "source": [
        "cupom = input(\"digite o cupom: \")\n",
        "if (cupom == \"aula1\" or cupom == 'aula2'):\n",
        "  print('você ganhou 10% de desconto')"
      ],
      "metadata": {
        "colab": {
          "base_uri": "https://localhost:8080/"
        },
        "id": "EMpTc2C9XPn0",
        "outputId": "7ed67622-ed7a-43c4-f510-26e0994b9b39"
      },
      "execution_count": 10,
      "outputs": [
        {
          "output_type": "stream",
          "name": "stdout",
          "text": [
            "digite o cupom: aula1\n",
            "você ganhou 10% de desconto\n"
          ]
        }
      ]
    }
  ]
}
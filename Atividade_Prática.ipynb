{
  "nbformat": 4,
  "nbformat_minor": 0,
  "metadata": {
    "colab": {
      "provenance": [],
      "authorship_tag": "ABX9TyMiA2NbSAeaoIpJZ2r3jMEU",
      "include_colab_link": true
    },
    "kernelspec": {
      "name": "python3",
      "display_name": "Python 3"
    },
    "language_info": {
      "name": "python"
    }
  },
  "cells": [
    {
      "cell_type": "markdown",
      "metadata": {
        "id": "view-in-github",
        "colab_type": "text"
      },
      "source": [
        "<a href=\"https://colab.research.google.com/github/Richardfcs/Atividade-Python-Aula-2-Richard-F/blob/main/Atividade_Pr%C3%A1tica.ipynb\" target=\"_parent\"><img src=\"https://colab.research.google.com/assets/colab-badge.svg\" alt=\"Open In Colab\"/></a>"
      ]
    },
    {
      "cell_type": "code",
      "execution_count": null,
      "metadata": {
        "id": "3M8cl6x9eLhQ"
      },
      "outputs": [],
      "source": [
        "preçoDoCarro = float(input(\"coloque o valor do seu carro:\"))\n",
        "anoDoCarro = int(input(\"coloque o ano do seu carro\"))\n",
        "\n",
        "if (anoDoCarro >= 1990):\n",
        "    taxaImposto = 1.015\n",
        "    x = preçoDoCarro * taxaImposto\n",
        "    valorTotal = round(x, 3)\n",
        "\n",
        "    print (f\"o valor do carro com o imposto é: R${(valorTotal)}\")\n",
        "\n",
        "    taxaPorCento = 0.015\n",
        "    y = preçoDoCarro * taxaPorCento\n",
        "    valorImposto = round(y, 3)\n",
        "    print (f\"o valor de imposto é: R${(valorImposto)}\")\n",
        "\n",
        "else :\n",
        "    taxaImposto = 1.01\n",
        "    x = preçoDoCarro * taxaImposto\n",
        "    valorTotal = round(x, 3)\n",
        "    print(f\"o valor do carro com o imposto é: R${(valorTotal)}\")\n",
        "\n",
        "    taxaPorCento = 0.01\n",
        "    y = preçoDoCarro * taxaPorCento\n",
        "    valorImposto = round(y, 3)\n",
        "    print (f\"o valor de imposto é R${(valorImposto)}\")"
      ]
    },
    {
      "cell_type": "markdown",
      "source": [
        "---"
      ],
      "metadata": {
        "id": "3TWbecIReTWm"
      }
    },
    {
      "cell_type": "code",
      "source": [
        "cargo = input(\"qual é o seu cargo?\")\n",
        "salario = float(input(\"Qual é o seu salário?\"))\n",
        "\n",
        "if (cargo == \"Gerente\" or cargo == \"gerente\" or cargo == \"GERENTE\"):\n",
        "    porCento = 0.1\n",
        "    print(porCento)\n",
        "    aumento = salario * porCento\n",
        "    print(f\"esse será o seu aumento: R${aumento}\")\n",
        "    valorTotal = salario + aumento\n",
        "    print(f\"seu novo salário: R${valorTotal}\")\n",
        "\n",
        "elif (cargo == \"Engenheiro\" or cargo == \"engenheiro\" or cargo == \"ENGENHEIRO\" or cargo == \"Engenheira\" or cargo == \"engenheira\" or cargo == \"ENGENHEIRA\"):\n",
        "    porCento = 0.2\n",
        "    print(porCento)\n",
        "    aumento1 = salario * porCento\n",
        "    print(f\"esse será o seu aumento: R${aumento1}\")\n",
        "    valorTotal1 = salario + aumento1\n",
        "    print(f\"seu novo salário: R${valorTotal1}\")\n",
        "\n",
        "elif (cargo == \"Técnico\" or cargo == \"técnico\" or cargo == \"TÉCNICO\" or cargo == \"tecnico\" or cargo == \"Tecnico\" or cargo == \"TECNICO\" or cargo == \"Técnica\" or cargo == \"técnica\" or cargo == \"TÉCNICA\" or cargo == \"tecnica\" or cargo == \"Tecnica\" or cargo == \"TECNICA\"):\n",
        "    porCento = 0.3\n",
        "    print(porCento)\n",
        "    aumento2 = salario * porCento\n",
        "    print(f\"esse será o seu aumento: R${aumento2}\")\n",
        "    valorTotal2 = salario + aumento2\n",
        "    print(f\"seu novo salário: R${valorTotal2}\")\n",
        "else:\n",
        "    porCento = 0.4\n",
        "    print(porCento)\n",
        "    aumento3 = salario * porCento\n",
        "    print(f\"esse será o seu aumento: R${aumento3}\")\n",
        "    valorTotal3 = salario + aumento3\n",
        "    print(f\"seu novo salário: R${valorTotal3}\")"
      ],
      "metadata": {
        "id": "PkeUbwl2eUkd"
      },
      "execution_count": null,
      "outputs": []
    }
  ]
}
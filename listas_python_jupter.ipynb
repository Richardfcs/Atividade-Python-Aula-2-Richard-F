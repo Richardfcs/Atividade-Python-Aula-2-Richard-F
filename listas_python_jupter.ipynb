{
  "nbformat": 4,
  "nbformat_minor": 0,
  "metadata": {
    "colab": {
      "provenance": [],
      "authorship_tag": "ABX9TyPJdwxJOUDkbE7c8WWVIcyl",
      "include_colab_link": true
    },
    "kernelspec": {
      "name": "python3",
      "display_name": "Python 3"
    },
    "language_info": {
      "name": "python"
    }
  },
  "cells": [
    {
      "cell_type": "markdown",
      "metadata": {
        "id": "view-in-github",
        "colab_type": "text"
      },
      "source": [
        "<a href=\"https://colab.research.google.com/github/Richardfcs/Atividade-Python-Aula-2-Richard-F/blob/main/listas_python_jupter.ipynb\" target=\"_parent\"><img src=\"https://colab.research.google.com/assets/colab-badge.svg\" alt=\"Open In Colab\"/></a>"
      ]
    },
    {
      "cell_type": "code",
      "execution_count": 93,
      "metadata": {
        "id": "f3BoWF3X_Sza"
      },
      "outputs": [],
      "source": [
        "L = []\n",
        "L = list()"
      ]
    },
    {
      "cell_type": "code",
      "source": [
        "\n",
        "dias = [3,1,10]\n",
        "dias[0]"
      ],
      "metadata": {
        "colab": {
          "base_uri": "https://localhost:8080/"
        },
        "id": "8KWl2cjnALqg",
        "outputId": "3488d645-801f-4b81-87d4-70503c791fd6"
      },
      "execution_count": 94,
      "outputs": [
        {
          "output_type": "execute_result",
          "data": {
            "text/plain": [
              "3"
            ]
          },
          "metadata": {},
          "execution_count": 94
        }
      ]
    },
    {
      "cell_type": "code",
      "source": [
        "dias[1]"
      ],
      "metadata": {
        "colab": {
          "base_uri": "https://localhost:8080/"
        },
        "id": "8hKV257bAMfW",
        "outputId": "8996683c-7ba8-4b22-aa83-687ba5b6855d"
      },
      "execution_count": 95,
      "outputs": [
        {
          "output_type": "execute_result",
          "data": {
            "text/plain": [
              "1"
            ]
          },
          "metadata": {},
          "execution_count": 95
        }
      ]
    },
    {
      "cell_type": "code",
      "source": [
        "dias[2]"
      ],
      "metadata": {
        "colab": {
          "base_uri": "https://localhost:8080/"
        },
        "id": "t_c7VQhJA5GW",
        "outputId": "4ec16191-fd77-41a2-a698-264995247744"
      },
      "execution_count": 96,
      "outputs": [
        {
          "output_type": "execute_result",
          "data": {
            "text/plain": [
              "10"
            ]
          },
          "metadata": {},
          "execution_count": 96
        }
      ]
    },
    {
      "cell_type": "code",
      "source": [
        "Z = [3,8,9]\n",
        "Z[0] = 7\n",
        "Z"
      ],
      "metadata": {
        "colab": {
          "base_uri": "https://localhost:8080/"
        },
        "id": "TK1tr_rLBA81",
        "outputId": "b34fb1c3-b877-491c-a1ff-a49d85b623e4"
      },
      "execution_count": 97,
      "outputs": [
        {
          "output_type": "execute_result",
          "data": {
            "text/plain": [
              "[7, 8, 9]"
            ]
          },
          "metadata": {},
          "execution_count": 97
        }
      ]
    },
    {
      "cell_type": "code",
      "source": [
        "V = [6,7,5,8,9]\n",
        "L = V\n",
        "print(V==L)\n",
        "print(V is L)\n",
        "V[0]=5\n",
        "print(V)\n",
        "print(L)"
      ],
      "metadata": {
        "colab": {
          "base_uri": "https://localhost:8080/"
        },
        "id": "Fb2iJTMUBrqu",
        "outputId": "1bb2fb98-8b39-4e6a-a786-7bdddb1f90f0"
      },
      "execution_count": 98,
      "outputs": [
        {
          "output_type": "stream",
          "name": "stdout",
          "text": [
            "True\n",
            "True\n",
            "[5, 7, 5, 8, 9]\n",
            "[5, 7, 5, 8, 9]\n"
          ]
        }
      ]
    },
    {
      "cell_type": "code",
      "source": [
        "a = [81,82,83]\n",
        "b = a[:]\n",
        "print(a == b)\n",
        "print(a is b)\n",
        "b[0] = 5\n",
        "a[0] = 10\n",
        "print(a)\n",
        "print(b)"
      ],
      "metadata": {
        "colab": {
          "base_uri": "https://localhost:8080/"
        },
        "id": "vBS0JCEeBz0X",
        "outputId": "ab8ba3e5-a6a7-4331-a899-2bb526f5b0b8"
      },
      "execution_count": 99,
      "outputs": [
        {
          "output_type": "stream",
          "name": "stdout",
          "text": [
            "True\n",
            "False\n",
            "[10, 82, 83]\n",
            "[5, 82, 83]\n"
          ]
        }
      ]
    },
    {
      "cell_type": "code",
      "source": [
        "uma_lista = ['a','b','c','d','e','f']\n",
        "#             0   1   2   3   4   5\n",
        "print(uma_lista[1:3]) #ultimo é cortado, sequência fechada\n",
        "print(uma_lista[:4])\n",
        "print(uma_lista[3:])\n",
        "print(uma_lista[:])"
      ],
      "metadata": {
        "colab": {
          "base_uri": "https://localhost:8080/"
        },
        "id": "XQFBZd-fE7Om",
        "outputId": "3b0e0daa-1baa-4f60-caaa-24edf20d1ca0"
      },
      "execution_count": 100,
      "outputs": [
        {
          "output_type": "stream",
          "name": "stdout",
          "text": [
            "['b', 'c']\n",
            "['a', 'b', 'c', 'd']\n",
            "['d', 'e', 'f']\n",
            "['a', 'b', 'c', 'd', 'e', 'f']\n"
          ]
        }
      ]
    },
    {
      "cell_type": "code",
      "source": [
        "a = [1,2,3]\n",
        "b = a[:]\n",
        "b[0] = 5\n",
        "#print(a[3])"
      ],
      "metadata": {
        "id": "xsBBJFwkIs_d"
      },
      "execution_count": 101,
      "outputs": []
    },
    {
      "cell_type": "code",
      "source": [
        "minhaLista = [76,92.3,'oi',True, 4, 76]\n",
        "print(minhaLista)\n",
        "minhaLista = [76,92.3,'oi',True, 4, 76, 'pitomba', 76]\n",
        "print(minhaLista)\n",
        "minhaLista = [76,92.3,'oi','Cibele',True, 4, 76, 'pitomba', 76]\n",
        "print(minhaLista)\n",
        "minhaLista = [99, 76,92.3,'oi','Cibele',True, 4, 76, 'pitomba', 76]\n",
        "print(minhaLista)\n",
        "print(minhaLista[3])\n",
        "minhaLista = [99, 76,92.3,'oi','Cibele', 4, 76, 'pitomba', 76]\n",
        "print(minhaLista)\n"
      ],
      "metadata": {
        "colab": {
          "base_uri": "https://localhost:8080/"
        },
        "id": "8KaVt7eqJAZN",
        "outputId": "53efa3ea-eff3-4eef-96c6-8f99dc49641e"
      },
      "execution_count": 102,
      "outputs": [
        {
          "output_type": "stream",
          "name": "stdout",
          "text": [
            "[76, 92.3, 'oi', True, 4, 76]\n",
            "[76, 92.3, 'oi', True, 4, 76, 'pitomba', 76]\n",
            "[76, 92.3, 'oi', 'Cibele', True, 4, 76, 'pitomba', 76]\n",
            "[99, 76, 92.3, 'oi', 'Cibele', True, 4, 76, 'pitomba', 76]\n",
            "oi\n",
            "[99, 76, 92.3, 'oi', 'Cibele', 4, 76, 'pitomba', 76]\n"
          ]
        }
      ]
    },
    {
      "cell_type": "code",
      "source": [
        "minhaLista = ['pitomba', 76]\n",
        "minhaLista2 = [76,92.3,'oi',True, 4, 76]\n",
        "minhaLista3 = minhaLista2 + minhaLista\n",
        "print(minhaLista3)"
      ],
      "metadata": {
        "colab": {
          "base_uri": "https://localhost:8080/"
        },
        "id": "IGLt25YqMHn8",
        "outputId": "0dc97c0d-ddb7-4675-f829-7089b907dd03"
      },
      "execution_count": 103,
      "outputs": [
        {
          "output_type": "stream",
          "name": "stdout",
          "text": [
            "[76, 92.3, 'oi', True, 4, 76, 'pitomba', 76]\n"
          ]
        }
      ]
    },
    {
      "cell_type": "code",
      "source": [
        "#A)\n",
        "minhaLista = [76,92.3,'oi',True, 4, 76]\n",
        "minhaLista += 'pitomba', 76\n",
        "print(minhaLista)\n",
        "\n",
        "#B)\n",
        "minhaLista[:3] += 'Cibele',\n",
        "print(minhaLista)\n",
        "\n",
        "#C)\n",
        "minhaLista[:0] += 99,\n",
        "print(minhaLista)\n",
        "\n",
        "#D)\n",
        "if (minhaLista[0] == \"oi\"):\n",
        "    print('No indice 0')\n",
        "\n",
        "elif (minhaLista[1] == \"oi\"):\n",
        "    print('No indice 1')\n",
        "\n",
        "elif (minhaLista[2] == \"oi\"):\n",
        "    print('No indice 2')\n",
        "\n",
        "elif (minhaLista[3] == \"oi\"):\n",
        "    print('No indice 3')\n",
        "\n",
        "elif (minhaLista[4] == \"oi\"):\n",
        "    print('No indice 4')\n",
        "\n",
        "elif (minhaLista[5] == \"oi\"):\n",
        "    print('No indice 5')\n",
        "\n",
        "elif (minhaLista[6] == \"oi\"):\n",
        "    print('No indice 6')\n",
        "\n",
        "#E)\n",
        "print(minhaLista[:5] + minhaLista[6:])"
      ],
      "metadata": {
        "colab": {
          "base_uri": "https://localhost:8080/"
        },
        "id": "T6i6oyQaN_V6",
        "outputId": "9e57f006-3663-4e83-cf87-548de8d73c91"
      },
      "execution_count": 104,
      "outputs": [
        {
          "output_type": "stream",
          "name": "stdout",
          "text": [
            "[76, 92.3, 'oi', True, 4, 76, 'pitomba', 76]\n",
            "[76, 92.3, 'oi', 'Cibele', True, 4, 76, 'pitomba', 76]\n",
            "[99, 76, 92.3, 'oi', 'Cibele', True, 4, 76, 'pitomba', 76]\n",
            "No indice 3\n",
            "[99, 76, 92.3, 'oi', 'Cibele', 4, 76, 'pitomba', 76]\n"
          ]
        }
      ]
    },
    {
      "cell_type": "markdown",
      "source": [
        "---"
      ],
      "metadata": {
        "id": "ZDQt0BQ9akPg"
      }
    },
    {
      "cell_type": "code",
      "source": [
        "tupla_numeros = (10,20,30)\n",
        "print(tupla_numeros)\n",
        "tupla_vazia = ()\n",
        "print(tupla_vazia)"
      ],
      "metadata": {
        "colab": {
          "base_uri": "https://localhost:8080/"
        },
        "id": "BokS0v6mamUu",
        "outputId": "9bf67178-457d-4aad-ef67-105d1520c286"
      },
      "execution_count": 105,
      "outputs": [
        {
          "output_type": "stream",
          "name": "stdout",
          "text": [
            "(10, 20, 30)\n",
            "()\n"
          ]
        }
      ]
    },
    {
      "cell_type": "code",
      "source": [
        "tupla_nomes = ('Marlene', 'Zezinho', 'Marlene', 'Cibele', 'Zuely')\n",
        "print(tupla_nomes.count('Marlene'))\n",
        "print(tupla_nomes.count('Suely'))\n",
        "print(tupla_nomes.count('Zezinho'))"
      ],
      "metadata": {
        "colab": {
          "base_uri": "https://localhost:8080/"
        },
        "id": "dff37Tdab8VY",
        "outputId": "a6d9cb87-4dd5-4e9d-ddec-8dc0b9e973dd"
      },
      "execution_count": 106,
      "outputs": [
        {
          "output_type": "stream",
          "name": "stdout",
          "text": [
            "2\n",
            "0\n",
            "1\n"
          ]
        }
      ]
    },
    {
      "cell_type": "code",
      "source": [
        "tupla = (1,2,2,3,4,4,4,5)\n",
        "print(tupla.count(4))"
      ],
      "metadata": {
        "colab": {
          "base_uri": "https://localhost:8080/"
        },
        "id": "vA0ucV-QcptP",
        "outputId": "2491d680-38e1-4130-b8c5-5e1f4af776ec"
      },
      "execution_count": 107,
      "outputs": [
        {
          "output_type": "stream",
          "name": "stdout",
          "text": [
            "3\n"
          ]
        }
      ]
    }
  ]
}
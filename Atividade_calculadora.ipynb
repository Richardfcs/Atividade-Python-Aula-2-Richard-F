{
  "nbformat": 4,
  "nbformat_minor": 0,
  "metadata": {
    "colab": {
      "provenance": [],
      "authorship_tag": "ABX9TyPUAOfPlLt/IaXP0LqT5Itf",
      "include_colab_link": true
    },
    "kernelspec": {
      "name": "python3",
      "display_name": "Python 3"
    },
    "language_info": {
      "name": "python"
    }
  },
  "cells": [
    {
      "cell_type": "markdown",
      "metadata": {
        "id": "view-in-github",
        "colab_type": "text"
      },
      "source": [
        "<a href=\"https://colab.research.google.com/github/Richardfcs/Atividade-Python-Aula-senac-Richard-F/blob/main/Atividade_calculadora.ipynb\" target=\"_parent\"><img src=\"https://colab.research.google.com/assets/colab-badge.svg\" alt=\"Open In Colab\"/></a>"
      ]
    },
    {
      "cell_type": "code",
      "execution_count": 1,
      "metadata": {
        "colab": {
          "base_uri": "https://localhost:8080/"
        },
        "id": "5w_FRgh4Riwt",
        "outputId": "8648bb86-1faa-43c7-8b28-5b8ac6fe0576"
      },
      "outputs": [
        {
          "output_type": "stream",
          "name": "stdout",
          "text": [
            "Número  0\n",
            "Número  1\n",
            "Número  2\n",
            "Número  3\n",
            "Número  4\n"
          ]
        }
      ],
      "source": [
        "def funcaoLeitura():\n",
        "  for i in range(5):\n",
        "    print(\"Número \", i)\n",
        "\n",
        "funcaoLeitura()"
      ]
    },
    {
      "cell_type": "code",
      "source": [
        "def addNum(n1, n2):\n",
        "  print(\"o primeiro número é: \", n1)\n",
        "  print(\"o segundo número é: \", n2)\n",
        "  print(\"A soma número é: \", n1+n2)"
      ],
      "metadata": {
        "id": "Dr0D2nZiSHhX"
      },
      "execution_count": 3,
      "outputs": []
    },
    {
      "cell_type": "code",
      "source": [
        "addNum(2,3)"
      ],
      "metadata": {
        "colab": {
          "base_uri": "https://localhost:8080/"
        },
        "id": "XNdiml1cSgH4",
        "outputId": "355e7e06-970f-4163-efcf-8e4e9357c84a"
      },
      "execution_count": 4,
      "outputs": [
        {
          "output_type": "stream",
          "name": "stdout",
          "text": [
            "o primeiro número é:  2\n",
            "o segundo número é:  3\n",
            "A soma número é:  5\n"
          ]
        }
      ]
    },
    {
      "cell_type": "code",
      "source": [
        "addNum(4, 3)"
      ],
      "metadata": {
        "colab": {
          "base_uri": "https://localhost:8080/"
        },
        "id": "xRvujSpvTUxo",
        "outputId": "3ce82802-7e22-40d8-b1f0-2959ae78d48f"
      },
      "execution_count": 5,
      "outputs": [
        {
          "output_type": "stream",
          "name": "stdout",
          "text": [
            "o primeiro número é:  4\n",
            "o segundo número é:  3\n",
            "A soma número é:  7\n"
          ]
        }
      ]
    },
    {
      "cell_type": "code",
      "source": [
        "addNum()"
      ],
      "metadata": {
        "colab": {
          "base_uri": "https://localhost:8080/",
          "height": 141
        },
        "id": "xNO13nZ4TZYQ",
        "outputId": "a33e1a20-ddd9-4644-fe9d-6fae8ad1467e"
      },
      "execution_count": 6,
      "outputs": [
        {
          "output_type": "error",
          "ename": "TypeError",
          "evalue": "addNum() missing 2 required positional arguments: 'n1' and 'n2'",
          "traceback": [
            "\u001b[0;31m---------------------------------------------------------------------------\u001b[0m",
            "\u001b[0;31mTypeError\u001b[0m                                 Traceback (most recent call last)",
            "\u001b[0;32m<ipython-input-6-c34dfdd39970>\u001b[0m in \u001b[0;36m<cell line: 1>\u001b[0;34m()\u001b[0m\n\u001b[0;32m----> 1\u001b[0;31m \u001b[0maddNum\u001b[0m\u001b[0;34m(\u001b[0m\u001b[0;34m)\u001b[0m\u001b[0;34m\u001b[0m\u001b[0;34m\u001b[0m\u001b[0m\n\u001b[0m",
            "\u001b[0;31mTypeError\u001b[0m: addNum() missing 2 required positional arguments: 'n1' and 'n2'"
          ]
        }
      ]
    },
    {
      "cell_type": "code",
      "source": [
        "def funcaoLeitura():\n",
        "  for num in [1,2,3,4,5]:\n",
        "    print(\"Número \", num)"
      ],
      "metadata": {
        "id": "U1cNYDlGVUEY"
      },
      "execution_count": 7,
      "outputs": []
    },
    {
      "cell_type": "code",
      "source": [
        "funcaoLeitura()"
      ],
      "metadata": {
        "colab": {
          "base_uri": "https://localhost:8080/"
        },
        "id": "r8Fn-8LVVhCW",
        "outputId": "2cac2656-b26f-463d-ea59-1c3875b04be6"
      },
      "execution_count": 8,
      "outputs": [
        {
          "output_type": "stream",
          "name": "stdout",
          "text": [
            "Número  1\n",
            "Número  2\n",
            "Número  3\n",
            "Número  4\n",
            "Número  5\n"
          ]
        }
      ]
    },
    {
      "cell_type": "code",
      "source": [
        "def funcaoLeitura():\n",
        "  for num in range(5):\n",
        "    print(\"Número \", num)"
      ],
      "metadata": {
        "id": "Jjd-IhFhVeYo"
      },
      "execution_count": 9,
      "outputs": []
    },
    {
      "cell_type": "code",
      "source": [
        "funcaoLeitura()"
      ],
      "metadata": {
        "colab": {
          "base_uri": "https://localhost:8080/"
        },
        "id": "0MH7VsPVV0eY",
        "outputId": "8a6613d4-3034-4e62-8fde-63840ad012b1"
      },
      "execution_count": 10,
      "outputs": [
        {
          "output_type": "stream",
          "name": "stdout",
          "text": [
            "Número  0\n",
            "Número  1\n",
            "Número  2\n",
            "Número  3\n",
            "Número  4\n"
          ]
        }
      ]
    },
    {
      "cell_type": "code",
      "source": [
        "varGlobal = 10\n",
        "def multiplicacao (num1, num2):\n",
        "    varGlobal = (num1 * num2)\n",
        "    print(\"Variável da função Multiplica: \", varGlobal)\n",
        "    print(varGlobal)\n",
        "multiplicacao(5, 4)"
      ],
      "metadata": {
        "colab": {
          "base_uri": "https://localhost:8080/"
        },
        "id": "ccbmhIseV3Wo",
        "outputId": "a493b307-d919-4628-90af-a6b0c88b8210"
      },
      "execution_count": 14,
      "outputs": [
        {
          "output_type": "stream",
          "name": "stdout",
          "text": [
            "Variável da função Multiplica:  20\n",
            "20\n"
          ]
        }
      ]
    },
    {
      "cell_type": "code",
      "source": [
        "print(varGlobal)"
      ],
      "metadata": {
        "colab": {
          "base_uri": "https://localhost:8080/"
        },
        "id": "mrWNU1sbW5VY",
        "outputId": "9238da6d-2d08-4c0e-93d0-46606e84f414"
      },
      "execution_count": 15,
      "outputs": [
        {
          "output_type": "stream",
          "name": "stdout",
          "text": [
            "10\n"
          ]
        }
      ]
    },
    {
      "cell_type": "code",
      "source": [
        "def separarTexto(texto):\n",
        "  return texto.split()"
      ],
      "metadata": {
        "id": "-TXNaA9EXYUQ"
      },
      "execution_count": 16,
      "outputs": []
    },
    {
      "cell_type": "code",
      "source": [
        "separarTexto(\"Cibele Maria\")"
      ],
      "metadata": {
        "colab": {
          "base_uri": "https://localhost:8080/"
        },
        "id": "l_xSnwx-gKW-",
        "outputId": "a14e44c4-7e50-4bba-9ed3-bf3343fca36f"
      },
      "execution_count": 17,
      "outputs": [
        {
          "output_type": "execute_result",
          "data": {
            "text/plain": [
              "['Cibele', 'Maria']"
            ]
          },
          "metadata": {},
          "execution_count": 17
        }
      ]
    },
    {
      "cell_type": "code",
      "source": [
        "def variosParametros(*parametros):\n",
        "  for n, item in enumerate(parametros):\n",
        "    print(\"Parâmetros\", n, item)\n",
        "  return;"
      ],
      "metadata": {
        "id": "hgo_MdqBiMB9"
      },
      "execution_count": 20,
      "outputs": []
    },
    {
      "cell_type": "code",
      "source": [
        "variosParametros('Cibele', 'Suely', 'Giggio', 'Madá', 'Luquinhas')"
      ],
      "metadata": {
        "colab": {
          "base_uri": "https://localhost:8080/"
        },
        "id": "u2kd6Qcai7FV",
        "outputId": "0bd2d355-95c6-446a-d97f-5e1c4959e5af"
      },
      "execution_count": 21,
      "outputs": [
        {
          "output_type": "stream",
          "name": "stdout",
          "text": [
            "Parâmetros 0 Cibele\n",
            "Parâmetros 1 Suely\n",
            "Parâmetros 2 Giggio\n",
            "Parâmetros 3 Madá\n",
            "Parâmetros 4 Luquinhas\n"
          ]
        }
      ]
    },
    {
      "cell_type": "code",
      "source": [
        "def variosParametros(*parametros):\n",
        "  for n in enumerate(parametros):\n",
        "    print(\"Parâmetros\", n)\n",
        "  return;"
      ],
      "metadata": {
        "id": "A6ODmb3ujX4m"
      },
      "execution_count": 22,
      "outputs": []
    },
    {
      "cell_type": "code",
      "source": [
        "variosParametros('Cibele', 'Suely', 'Giggio', 'Madá', 'Luquinhas')"
      ],
      "metadata": {
        "colab": {
          "base_uri": "https://localhost:8080/"
        },
        "id": "LC5gF3-RjajV",
        "outputId": "99d4ca8a-48a5-4434-8cf8-9a4e87d3bf62"
      },
      "execution_count": 23,
      "outputs": [
        {
          "output_type": "stream",
          "name": "stdout",
          "text": [
            "Parâmetros (0, 'Cibele')\n",
            "Parâmetros (1, 'Suely')\n",
            "Parâmetros (2, 'Giggio')\n",
            "Parâmetros (3, 'Madá')\n",
            "Parâmetros (4, 'Luquinhas')\n"
          ]
        }
      ]
    },
    {
      "cell_type": "code",
      "source": [
        "def variosParametros(*parametros):\n",
        "  print(parametros[2])\n",
        "  for n in enumerate(parametros):\n",
        "    print(\"Parâmetros\", n)\n",
        "  return;"
      ],
      "metadata": {
        "id": "uyf9sAwyjmGO"
      },
      "execution_count": 24,
      "outputs": []
    },
    {
      "cell_type": "code",
      "source": [
        "variosParametros('Cibele', 'Suely', 'Giggio', 'Madá', 'Luquinhas')"
      ],
      "metadata": {
        "colab": {
          "base_uri": "https://localhost:8080/"
        },
        "id": "G0CMRYiFjtHu",
        "outputId": "7186d685-01a6-4522-8a08-9b32e1feedbd"
      },
      "execution_count": 25,
      "outputs": [
        {
          "output_type": "stream",
          "name": "stdout",
          "text": [
            "Giggio\n",
            "Parâmetros (0, 'Cibele')\n",
            "Parâmetros (1, 'Suely')\n",
            "Parâmetros (2, 'Giggio')\n",
            "Parâmetros (3, 'Madá')\n",
            "Parâmetros (4, 'Luquinhas')\n"
          ]
        }
      ]
    },
    {
      "cell_type": "code",
      "source": [
        "def soma(n1, n2):\n",
        "  return n1 + n2\n",
        "\n",
        "def subtrai(n1, n2):\n",
        "  return n1 - n2\n",
        "\n",
        "def multiplicar(n1, n2):\n",
        "  return n1 * n2\n",
        "\n",
        "def divide(n1, n2):\n",
        "  return n1 / n2"
      ],
      "metadata": {
        "id": "aBkHqNcOkC-W"
      },
      "execution_count": 35,
      "outputs": []
    },
    {
      "cell_type": "code",
      "source": [
        "while True:\n",
        "  print(\"+===================\")\n",
        "  print(\"| MENU DE OPERAÇÕES\")\n",
        "  print(\"|  1 - somar       \")\n",
        "  print(\"|  2 - subtrair    \")\n",
        "  print(\"|  3 - multiplicar \")\n",
        "  print(\"|  4 - dividir     \")\n",
        "  print(\"|  0 - sair        \")\n",
        "  print(\"+===================\")\n",
        "\n",
        "  op = int(input())\n",
        "  if op == 0:\n",
        "    break\n",
        "  n1 = int(input(\"Primeiro número: \"))\n",
        "  n2 = int(input(\"Segundo número: \"))\n",
        "\n",
        "  if op == 1:\n",
        "    print(\"O resultado da soma é: \", soma(n1, n2))\n",
        "  elif op == 2:\n",
        "    print(\"O resultado da soma é: \", subtrai(n1, n2))\n",
        "  elif op == 3:\n",
        "    print(\"O resultado da soma é: \", multiplicar(n1, n2))\n",
        "  elif op == 4:\n",
        "    print(\"O resultado da soma é: \", divide(n1, n2))\n",
        "  else:\n",
        "    print(\"por favor, digite uma das opções.\")\n",
        "  print(\" \")"
      ],
      "metadata": {
        "colab": {
          "base_uri": "https://localhost:8080/",
          "height": 721
        },
        "id": "1X8u4Mynlc8F",
        "outputId": "330bf033-ff6f-4ade-979a-9fa432588275"
      },
      "execution_count": 46,
      "outputs": [
        {
          "output_type": "stream",
          "name": "stdout",
          "text": [
            "+===================\n",
            "| MENU DE OPERAÇÕES\n",
            "|  1 - somar       \n",
            "|  2 - subtrair    \n",
            "|  3 - multiplicar \n",
            "|  4 - dividir     \n",
            "|  0 - sair        \n",
            "+===================\n",
            "8\n",
            "Primeiro número: 9\n",
            "Segundo número: 8\n",
            "por favor, digite uma das opções.\n",
            " \n",
            "+===================\n",
            "| MENU DE OPERAÇÕES\n",
            "|  1 - somar       \n",
            "|  2 - subtrair    \n",
            "|  3 - multiplicar \n",
            "|  4 - dividir     \n",
            "|  0 - sair        \n",
            "+===================\n"
          ]
        },
        {
          "output_type": "error",
          "ename": "KeyboardInterrupt",
          "evalue": "Interrupted by user",
          "traceback": [
            "\u001b[0;31m---------------------------------------------------------------------------\u001b[0m",
            "\u001b[0;31mKeyboardInterrupt\u001b[0m                         Traceback (most recent call last)",
            "\u001b[0;32m<ipython-input-46-84cda0bbb227>\u001b[0m in \u001b[0;36m<cell line: 1>\u001b[0;34m()\u001b[0m\n\u001b[1;32m      9\u001b[0m   \u001b[0mprint\u001b[0m\u001b[0;34m(\u001b[0m\u001b[0;34m\"+===================\"\u001b[0m\u001b[0;34m)\u001b[0m\u001b[0;34m\u001b[0m\u001b[0;34m\u001b[0m\u001b[0m\n\u001b[1;32m     10\u001b[0m \u001b[0;34m\u001b[0m\u001b[0m\n\u001b[0;32m---> 11\u001b[0;31m   \u001b[0mop\u001b[0m \u001b[0;34m=\u001b[0m \u001b[0mint\u001b[0m\u001b[0;34m(\u001b[0m\u001b[0minput\u001b[0m\u001b[0;34m(\u001b[0m\u001b[0;34m)\u001b[0m\u001b[0;34m)\u001b[0m\u001b[0;34m\u001b[0m\u001b[0;34m\u001b[0m\u001b[0m\n\u001b[0m\u001b[1;32m     12\u001b[0m   \u001b[0;32mif\u001b[0m \u001b[0mop\u001b[0m \u001b[0;34m==\u001b[0m \u001b[0;36m0\u001b[0m\u001b[0;34m:\u001b[0m\u001b[0;34m\u001b[0m\u001b[0;34m\u001b[0m\u001b[0m\n\u001b[1;32m     13\u001b[0m     \u001b[0;32mbreak\u001b[0m\u001b[0;34m\u001b[0m\u001b[0;34m\u001b[0m\u001b[0m\n",
            "\u001b[0;32m/usr/local/lib/python3.10/dist-packages/ipykernel/kernelbase.py\u001b[0m in \u001b[0;36mraw_input\u001b[0;34m(self, prompt)\u001b[0m\n\u001b[1;32m    849\u001b[0m                 \u001b[0;34m\"raw_input was called, but this frontend does not support input requests.\"\u001b[0m\u001b[0;34m\u001b[0m\u001b[0;34m\u001b[0m\u001b[0m\n\u001b[1;32m    850\u001b[0m             )\n\u001b[0;32m--> 851\u001b[0;31m         return self._input_request(str(prompt),\n\u001b[0m\u001b[1;32m    852\u001b[0m             \u001b[0mself\u001b[0m\u001b[0;34m.\u001b[0m\u001b[0m_parent_ident\u001b[0m\u001b[0;34m,\u001b[0m\u001b[0;34m\u001b[0m\u001b[0;34m\u001b[0m\u001b[0m\n\u001b[1;32m    853\u001b[0m             \u001b[0mself\u001b[0m\u001b[0;34m.\u001b[0m\u001b[0m_parent_header\u001b[0m\u001b[0;34m,\u001b[0m\u001b[0;34m\u001b[0m\u001b[0;34m\u001b[0m\u001b[0m\n",
            "\u001b[0;32m/usr/local/lib/python3.10/dist-packages/ipykernel/kernelbase.py\u001b[0m in \u001b[0;36m_input_request\u001b[0;34m(self, prompt, ident, parent, password)\u001b[0m\n\u001b[1;32m    893\u001b[0m             \u001b[0;32mexcept\u001b[0m \u001b[0mKeyboardInterrupt\u001b[0m\u001b[0;34m:\u001b[0m\u001b[0;34m\u001b[0m\u001b[0;34m\u001b[0m\u001b[0m\n\u001b[1;32m    894\u001b[0m                 \u001b[0;31m# re-raise KeyboardInterrupt, to truncate traceback\u001b[0m\u001b[0;34m\u001b[0m\u001b[0;34m\u001b[0m\u001b[0m\n\u001b[0;32m--> 895\u001b[0;31m                 \u001b[0;32mraise\u001b[0m \u001b[0mKeyboardInterrupt\u001b[0m\u001b[0;34m(\u001b[0m\u001b[0;34m\"Interrupted by user\"\u001b[0m\u001b[0;34m)\u001b[0m \u001b[0;32mfrom\u001b[0m \u001b[0;32mNone\u001b[0m\u001b[0;34m\u001b[0m\u001b[0;34m\u001b[0m\u001b[0m\n\u001b[0m\u001b[1;32m    896\u001b[0m             \u001b[0;32mexcept\u001b[0m \u001b[0mException\u001b[0m \u001b[0;32mas\u001b[0m \u001b[0me\u001b[0m\u001b[0;34m:\u001b[0m\u001b[0;34m\u001b[0m\u001b[0;34m\u001b[0m\u001b[0m\n\u001b[1;32m    897\u001b[0m                 \u001b[0mself\u001b[0m\u001b[0;34m.\u001b[0m\u001b[0mlog\u001b[0m\u001b[0;34m.\u001b[0m\u001b[0mwarning\u001b[0m\u001b[0;34m(\u001b[0m\u001b[0;34m\"Invalid Message:\"\u001b[0m\u001b[0;34m,\u001b[0m \u001b[0mexc_info\u001b[0m\u001b[0;34m=\u001b[0m\u001b[0;32mTrue\u001b[0m\u001b[0;34m)\u001b[0m\u001b[0;34m\u001b[0m\u001b[0;34m\u001b[0m\u001b[0m\n",
            "\u001b[0;31mKeyboardInterrupt\u001b[0m: Interrupted by user"
          ]
        }
      ]
    }
  ]
}
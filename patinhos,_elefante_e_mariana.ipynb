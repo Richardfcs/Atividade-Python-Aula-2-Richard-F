{
  "nbformat": 4,
  "nbformat_minor": 0,
  "metadata": {
    "colab": {
      "provenance": [],
      "authorship_tag": "ABX9TyMALQtWvTMrzCJz2O3tZEhv",
      "include_colab_link": true
    },
    "kernelspec": {
      "name": "python3",
      "display_name": "Python 3"
    },
    "language_info": {
      "name": "python"
    }
  },
  "cells": [
    {
      "cell_type": "markdown",
      "metadata": {
        "id": "view-in-github",
        "colab_type": "text"
      },
      "source": [
        "<a href=\"https://colab.research.google.com/github/Richardfcs/Atividade-Python-Aula-senac-Richard-F/blob/main/patinhos%2C_elefante_e_mariana.ipynb\" target=\"_parent\"><img src=\"https://colab.research.google.com/assets/colab-badge.svg\" alt=\"Open In Colab\"/></a>"
      ]
    },
    {
      "cell_type": "code",
      "execution_count": 28,
      "metadata": {
        "colab": {
          "base_uri": "https://localhost:8080/"
        },
        "id": "b2jKtb1wFYX9",
        "outputId": "20c0d631-196a-4958-ce74-dd9d47dd6bd0"
      },
      "outputs": [
        {
          "output_type": "stream",
          "name": "stdout",
          "text": [
            "5 patinhos foram passear, além das montanhas para brincar, A mamãe gritou: Quá, quá, quá, quá, Mas só 5 patinhos voltaram de lá.\n",
            "4 patinhos foram passear, além das montanhas para brincar, A mamãe gritou: Quá, quá, quá, quá, Mas só 4 patinhos voltaram de lá.\n",
            "3 patinhos foram passear, além das montanhas para brincar, A mamãe gritou: Quá, quá, quá, quá, Mas só 3 patinhos voltaram de lá.\n",
            "2 patinhos foram passear, além das montanhas para brincar, A mamãe gritou: Quá, quá, quá, quá, Mas só 2 patinhos voltaram de lá.\n",
            "1 patinho foi passear, além das montanhas para brincar, A mamãe gritou: Quá, quá, quá, quá, Mas nenhum patinho voltou de lá.\n"
          ]
        }
      ],
      "source": [
        "n = 5\n",
        "while n > 0 :\n",
        "  if n == 1:\n",
        "    print(f\"{n} patinho foi passear, além das montanhas para brincar, A mamãe gritou: Quá, quá, quá, quá, Mas nenhum patinho voltou de lá.\")\n",
        "  else:\n",
        "    print(f\"{n} patinhos foram passear, além das montanhas para brincar, A mamãe gritou: Quá, quá, quá, quá, Mas só {n} patinhos voltaram de lá.\")\n",
        "  n += -1"
      ]
    },
    {
      "cell_type": "code",
      "source": [
        "for n in [5, 4, 3, 2, 1]:\n",
        "  if n == 1:\n",
        "    print(f\"{n} patinho foi passear, além das montanhas para brincar, A mamãe gritou: Quá, quá, quá, quá, Mas nenhum patinho voltou de lá.\")\n",
        "  else:\n",
        "    print(f\"{n} patinhos foram passear, além das montanhas para brincar, A mamãe gritou: Quá, quá, quá, quá, Mas só {n} patinhos voltaram de lá.\")"
      ],
      "metadata": {
        "colab": {
          "base_uri": "https://localhost:8080/"
        },
        "id": "BoDqG-AYGdez",
        "outputId": "94d09043-6595-4de8-cc1a-3e3046c40714"
      },
      "execution_count": 24,
      "outputs": [
        {
          "output_type": "stream",
          "name": "stdout",
          "text": [
            "5 patinhos foram passear, além das montanhas para brincar, A mamãe gritou: Quá, quá, quá, quá, Mas só 5 patinhos voltaram de lá.\n",
            "4 patinhos foram passear, além das montanhas para brincar, A mamãe gritou: Quá, quá, quá, quá, Mas só 4 patinhos voltaram de lá.\n",
            "3 patinhos foram passear, além das montanhas para brincar, A mamãe gritou: Quá, quá, quá, quá, Mas só 3 patinhos voltaram de lá.\n",
            "2 patinhos foram passear, além das montanhas para brincar, A mamãe gritou: Quá, quá, quá, quá, Mas só 2 patinhos voltaram de lá.\n",
            "1 patinho foi passear, além das montanhas para brincar, A mamãe gritou: Quá, quá, quá, quá, Mas nenhum patinho voltou de lá.\n"
          ]
        }
      ]
    },
    {
      "cell_type": "markdown",
      "source": [
        "---"
      ],
      "metadata": {
        "id": "eapvIoE9LGUq"
      }
    },
    {
      "cell_type": "code",
      "source": [
        "incomodam = \"incomodam \"\n",
        "for n in [1, 2, 3, 4, 5, 6, 7, 8, 9, 10]:\n",
        "  if n % 2 == 0:\n",
        "    print(n, \"elefantes\" ,incomodam * n, \"muito mais!\")\n",
        "  elif n % 2 != 0:\n",
        "    print(n, \"elefantes incomodam muita gente\")"
      ],
      "metadata": {
        "colab": {
          "base_uri": "https://localhost:8080/"
        },
        "id": "6V1pEF_yN4Zz",
        "outputId": "791a5dbf-d1e0-4ec4-9747-97161668eec9"
      },
      "execution_count": 65,
      "outputs": [
        {
          "output_type": "stream",
          "name": "stdout",
          "text": [
            "1 elefantes incomodam muita gente\n",
            "2 elefantes incomodam incomodam  muito mais!\n",
            "3 elefantes incomodam muita gente\n",
            "4 elefantes incomodam incomodam incomodam incomodam  muito mais!\n",
            "5 elefantes incomodam muita gente\n",
            "6 elefantes incomodam incomodam incomodam incomodam incomodam incomodam  muito mais!\n",
            "7 elefantes incomodam muita gente\n",
            "8 elefantes incomodam incomodam incomodam incomodam incomodam incomodam incomodam incomodam  muito mais!\n",
            "9 elefantes incomodam muita gente\n",
            "10 elefantes incomodam incomodam incomodam incomodam incomodam incomodam incomodam incomodam incomodam incomodam  muito mais!\n"
          ]
        }
      ]
    },
    {
      "cell_type": "code",
      "source": [
        "incomodam = \"incomodam \"\n",
        "for n in [10, 9, 8, 7, 6, 5, 4, 3, 2, 1]:\n",
        "  if n % 2 != 0:\n",
        "    print(n, \"elefantes\" ,incomodam * n, \"muito menos!\")\n",
        "  elif n % 2 == 0:\n",
        "    print(n, \"elefantes incomodam muita gente\")"
      ],
      "metadata": {
        "colab": {
          "base_uri": "https://localhost:8080/"
        },
        "id": "vL5XfGuqPE6s",
        "outputId": "5cf68676-073a-4c35-9e66-84ba7c19f6e5"
      },
      "execution_count": 64,
      "outputs": [
        {
          "output_type": "stream",
          "name": "stdout",
          "text": [
            "10 elefantes incomodam muita gente\n",
            "9 elefantes incomodam incomodam incomodam incomodam incomodam incomodam incomodam incomodam incomodam  muito menos!\n",
            "8 elefantes incomodam muita gente\n",
            "7 elefantes incomodam incomodam incomodam incomodam incomodam incomodam incomodam  muito menos!\n",
            "6 elefantes incomodam muita gente\n",
            "5 elefantes incomodam incomodam incomodam incomodam incomodam  muito menos!\n",
            "4 elefantes incomodam muita gente\n",
            "3 elefantes incomodam incomodam incomodam  muito menos!\n",
            "2 elefantes incomodam muita gente\n",
            "1 elefantes incomodam  muito menos!\n"
          ]
        }
      ]
    },
    {
      "cell_type": "markdown",
      "source": [
        "---"
      ],
      "metadata": {
        "id": "4N7RKx4pTC7q"
      }
    },
    {
      "cell_type": "code",
      "source": [
        "for Mariana in [1,2,3,4,5,6,7,8,9,10]:\n",
        "  print(\"Mariana conta\" ,Mariana, \"Mariana conta, \", Mariana,)\n",
        "  h = 1\n",
        "  while(h <= Mariana):\n",
        "    print(\"é\", h)\n",
        "    h=h+1\n",
        "  print(\"É Ana, viva mariana, viva Mariana.\")"
      ],
      "metadata": {
        "colab": {
          "base_uri": "https://localhost:8080/"
        },
        "id": "bTTljJyCTEGa",
        "outputId": "5da560e8-c7b0-4eb5-f3d0-267bcf1d6cf2"
      },
      "execution_count": 104,
      "outputs": [
        {
          "output_type": "stream",
          "name": "stdout",
          "text": [
            "Mariana conta 1 Mariana conta,  1\n",
            "é 1\n",
            "É Ana, viva mariana, viva Mariana.\n",
            "Mariana conta 2 Mariana conta,  2\n",
            "é 1\n",
            "é 2\n",
            "É Ana, viva mariana, viva Mariana.\n",
            "Mariana conta 3 Mariana conta,  3\n",
            "é 1\n",
            "é 2\n",
            "é 3\n",
            "É Ana, viva mariana, viva Mariana.\n",
            "Mariana conta 4 Mariana conta,  4\n",
            "é 1\n",
            "é 2\n",
            "é 3\n",
            "é 4\n",
            "É Ana, viva mariana, viva Mariana.\n",
            "Mariana conta 5 Mariana conta,  5\n",
            "é 1\n",
            "é 2\n",
            "é 3\n",
            "é 4\n",
            "é 5\n",
            "É Ana, viva mariana, viva Mariana.\n",
            "Mariana conta 6 Mariana conta,  6\n",
            "é 1\n",
            "é 2\n",
            "é 3\n",
            "é 4\n",
            "é 5\n",
            "é 6\n",
            "É Ana, viva mariana, viva Mariana.\n",
            "Mariana conta 7 Mariana conta,  7\n",
            "é 1\n",
            "é 2\n",
            "é 3\n",
            "é 4\n",
            "é 5\n",
            "é 6\n",
            "é 7\n",
            "É Ana, viva mariana, viva Mariana.\n",
            "Mariana conta 8 Mariana conta,  8\n",
            "é 1\n",
            "é 2\n",
            "é 3\n",
            "é 4\n",
            "é 5\n",
            "é 6\n",
            "é 7\n",
            "é 8\n",
            "É Ana, viva mariana, viva Mariana.\n",
            "Mariana conta 9 Mariana conta,  9\n",
            "é 1\n",
            "é 2\n",
            "é 3\n",
            "é 4\n",
            "é 5\n",
            "é 6\n",
            "é 7\n",
            "é 8\n",
            "é 9\n",
            "É Ana, viva mariana, viva Mariana.\n",
            "Mariana conta 10 Mariana conta,  10\n",
            "é 1\n",
            "é 2\n",
            "é 3\n",
            "é 4\n",
            "é 5\n",
            "é 6\n",
            "é 7\n",
            "é 8\n",
            "é 9\n",
            "é 10\n",
            "É Ana, viva mariana, viva Mariana.\n"
          ]
        }
      ]
    }
  ]
}
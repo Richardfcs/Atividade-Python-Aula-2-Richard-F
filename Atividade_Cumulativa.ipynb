{
  "nbformat": 4,
  "nbformat_minor": 0,
  "metadata": {
    "colab": {
      "provenance": [],
      "authorship_tag": "ABX9TyPSeYC+DeK5/j1Tw/gD/FQu",
      "include_colab_link": true
    },
    "kernelspec": {
      "name": "python3",
      "display_name": "Python 3"
    },
    "language_info": {
      "name": "python"
    }
  },
  "cells": [
    {
      "cell_type": "markdown",
      "metadata": {
        "id": "view-in-github",
        "colab_type": "text"
      },
      "source": [
        "<a href=\"https://colab.research.google.com/github/Richardfcs/Atividade-Python-Aula-2-Richard-F/blob/main/Atividade_Cumulativa.ipynb\" target=\"_parent\"><img src=\"https://colab.research.google.com/assets/colab-badge.svg\" alt=\"Open In Colab\"/></a>"
      ]
    },
    {
      "cell_type": "markdown",
      "source": [
        "1.Faça um Programa que verifique se uma letra digitada é vogal ou consoante"
      ],
      "metadata": {
        "id": "R4ty2dXdMH3h"
      }
    },
    {
      "cell_type": "code",
      "execution_count": null,
      "metadata": {
        "id": "VmOtE7sZCqdn",
        "colab": {
          "base_uri": "https://localhost:8080/"
        },
        "outputId": "4d4096c7-dc18-49ef-ee72-33be82c07877"
      },
      "outputs": [
        {
          "output_type": "stream",
          "name": "stdout",
          "text": [
            "digite uma letra a\n",
            "A letra digitada é vogal\n"
          ]
        }
      ],
      "source": [
        "digiteUmNumero = input(\"digite uma letra \")\n",
        "\n",
        "if digiteUmNumero in [\"a\",\"e\",\"i\",\"o\",\"u\"]:\n",
        "  print(\"A letra digitada é vogal\")\n",
        "else: print(\"A letra digitada é consoante\")"
      ]
    },
    {
      "cell_type": "markdown",
      "source": [
        "---\n",
        "2. Faça um programa que pergunte o preço de três produtos e informe qual produto você deve comprar, sabendo que a decisão é sempre polo mais barato"
      ],
      "metadata": {
        "id": "7vGOo7haM87l"
      }
    },
    {
      "cell_type": "code",
      "source": [
        "numero1 = float(input(\"defina o preço do produto em reais: R$\"))\n",
        "numero2 = float(input(\"defina outro preço do produto em reais: R$\"))\n",
        "numero3 = float(input(\"defina mais outro preço em reais: R$\"))\n",
        "\n",
        "lista = [numero1, numero2, numero3]\n",
        "barato = min(lista)\n",
        "\n",
        "if (barato == numero1 and barato == numero2 and barato == numero3):\n",
        "  print(\"os tês produtos são do mesmo valor\")\n",
        "elif (barato == numero1 and barato == numero2):\n",
        "  print(\"o primeiro e o segundo são os mais baratos\")\n",
        "elif (barato == numero1 and barato == numero3):\n",
        "  print(\"o primeiro e o terceiro são os mais baratos\")\n",
        "elif (barato == numero2 and barato == numero3):\n",
        "  print(\"o segundo e o terceiro são os mais baratos\")\n",
        "elif (barato == numero1):\n",
        "  print(\"o primeiro produto é mais barato\")\n",
        "elif (barato == numero2):\n",
        "  print(\"o segundo produto é mais barato\")\n",
        "elif (barato == numero3):\n",
        "  print(\"o terceiro produto é mais barato\")\n",
        "else:\n",
        "  print(\"erro\")\n",
        "#print(\"Este é o valor mais barato: \",barato)"
      ],
      "metadata": {
        "id": "LnN1Q7jALrK_",
        "colab": {
          "base_uri": "https://localhost:8080/"
        },
        "outputId": "42d7f118-637b-4d58-ee06-6797b67b0733"
      },
      "execution_count": 25,
      "outputs": [
        {
          "output_type": "stream",
          "name": "stdout",
          "text": [
            "defina o preço do produto em reais: R$40\n",
            "defina outro preço do produto em reais: R$20\n",
            "defina mais outro preço em reais: R$20\n",
            "o segundo e o terceiro são os mais baratos\n"
          ]
        }
      ]
    },
    {
      "cell_type": "markdown",
      "source": [
        "---\n",
        "3. Faça um Programa que leia três números e mostre-os em ordem decrescente."
      ],
      "metadata": {
        "id": "oliqAxJoNFrM"
      }
    },
    {
      "cell_type": "code",
      "source": [
        "ler1 = int(input(\"escolha um número: \"))\n",
        "ler2 = int(input(\"escolha outro número: \"))\n",
        "ler3 = int(input(\"escolha mais outro número: \"))\n",
        "\n",
        "listaNumero = [ler1, ler2, ler3]\n",
        "listaNumero.sort(reverse=True)\n",
        "\n",
        "print(\"números em ordem decrescente:\")\n",
        "for numero in listaNumero:\n",
        "  print(numero)"
      ],
      "metadata": {
        "id": "qWjFcCH_NJ8j",
        "colab": {
          "base_uri": "https://localhost:8080/"
        },
        "outputId": "9758239a-8d84-4dfe-b6b2-e65a0a39e0b1"
      },
      "execution_count": 37,
      "outputs": [
        {
          "output_type": "stream",
          "name": "stdout",
          "text": [
            "escolha um número: 3\n",
            "escolha outro número: 4\n",
            "escolha mais outro número: 2\n",
            "números em ordem decrescente:\n",
            "4\n",
            "3\n",
            "2\n"
          ]
        }
      ]
    },
    {
      "cell_type": "markdown",
      "source": [
        "---\n",
        "4. Faça um Programa que pergunte em que tuma você estuda. Peça para digitar M-matutino ou V-Vespertino ou N- Noturno. Imprima a mensagem Bom Dial, Boa Tardel ou Boa Noite ou \"Valor Invalidol, conforme o caso"
      ],
      "metadata": {
        "id": "1V9VsmklNKLr"
      }
    },
    {
      "cell_type": "code",
      "source": [
        "from os import execle\n",
        "input(\"qual turma você estuda? \")\n",
        "turno = input(\"digite qual o seu turno? escolha M para matutino, V para Vespertino e N para noturno: \")\n",
        "\n",
        "if turno == \"M\" or turno == \"m\":\n",
        "  print(\"Bom dia\")\n",
        "elif turno == \"V\" or turno == \"v\":\n",
        "  print(\"Boa tarde\")\n",
        "elif turno == \"N\" or turno == \"N\":\n",
        "  print(\"Boa noite\")\n",
        "else:\n",
        "  print(\"Valor invalido\")"
      ],
      "metadata": {
        "id": "liq2MfygNNt9",
        "colab": {
          "base_uri": "https://localhost:8080/"
        },
        "outputId": "07288c5b-512f-4afa-cdcc-abef5cfbd6ad"
      },
      "execution_count": 39,
      "outputs": [
        {
          "output_type": "stream",
          "name": "stdout",
          "text": [
            "qual turma você estuda? senac\n",
            "digite qual o seu turno? escolha M para matutino, V para Vespertino e N para noturno: N\n",
            "Boa noite\n"
          ]
        }
      ]
    },
    {
      "cell_type": "markdown",
      "source": [
        "---\n",
        "5. Faça um Programa que leia um número e exiba o dia correspondente da semana. (1-Domingo, 2-Segunda, etc). Se for digitado outro valor deve retomar uma mensagem informando valor inválido."
      ],
      "metadata": {
        "id": "bBbEBtmZNN-W"
      }
    },
    {
      "cell_type": "code",
      "source": [
        "numero = input(\"digite um número de 1-7: \")\n",
        "\n",
        "if numero == 1:\n",
        "  print(\"Domingo\")\n",
        "elif numero == 2:\n",
        "  print(\"Segunda\")\n",
        "elif numero == 3:\n",
        "  print(\"Terça\")\n",
        "elif numero == 4:\n",
        "  print(\"Quarta\")\n",
        "elif numero == 5:\n",
        "  print(\"Quinta\")\n",
        "elif numero == 6:\n",
        "  print(\"Sexta\")\n",
        "elif numero == 7:\n",
        "  print(\"Sabado\")"
      ],
      "metadata": {
        "id": "88ryXAT0NQaX"
      },
      "execution_count": null,
      "outputs": []
    },
    {
      "cell_type": "markdown",
      "source": [
        "---\n",
        "5. Faça um programa que le as duas notas parciais obtidas por um alluno numa disciplina ao longo de um semestre, e calcule a sua media. A atribuição de conceitos obedece as regras\n",
        "\n",
        "Média de Aproveitamento Conceito\n",
        "\n",
        "Entre 9.0 e 10.0 - A\n",
        "\n",
        "Entre 7.5 e 9.0 - B\n",
        "\n",
        "Entre 6.0 e 7.5 - C\n",
        "\n",
        "Entre 4.0 e 6.0 - D\n",
        "\n",
        "Entre 4.0 e zero - E"
      ],
      "metadata": {
        "id": "gIWih3pvNQu-"
      }
    },
    {
      "cell_type": "code",
      "source": [
        "soma1 = float(input(\"nota do aluno: \"))\n",
        "soma2 = float(input(\"nota do aluno: \"))\n",
        "media = (soma1 + soma2) / 2\n",
        "print(f\"essa foi a sua média: {media}\")\n",
        "\n",
        "if media >= 9:\n",
        "  print(\"conceito: A\")\n",
        "elif media >= 7.5:\n",
        "  print(\"conceito: B\")\n",
        "elif media >= 6:\n",
        "  print(\"conceito: C\")\n",
        "elif media >= 4:\n",
        "  print(\"conceito: D\")\n",
        "elif media >= 0:\n",
        "  print(\"conceito: E\")"
      ],
      "metadata": {
        "id": "W6Mr0J_sNip-",
        "colab": {
          "base_uri": "https://localhost:8080/"
        },
        "outputId": "fdd916f6-fb34-4f52-ba3f-7628b48471b6"
      },
      "execution_count": 45,
      "outputs": [
        {
          "output_type": "stream",
          "name": "stdout",
          "text": [
            "nota do aluno: 6\n",
            "nota do aluno: 2\n",
            "essa foi a sua média: 4.0\n",
            "conceito: D\n"
          ]
        }
      ]
    },
    {
      "cell_type": "markdown",
      "source": [
        "---\n",
        "6. Faça um Programa que peça um número correspondente a um determinado ano e em seguida informe se este ano é ou não bissexto"
      ],
      "metadata": {
        "id": "uuA3tob6NjR7"
      }
    },
    {
      "cell_type": "code",
      "source": [
        "ano = int(input(\"digite algun ano: \"))\n",
        "\n",
        "if (ano % 4 == 0 and ano % 100 != 0) or (ano % 400 == 0):\n",
        "  print(\"o ano foi bissexto\")\n",
        "else:\n",
        "  print(\"o ano não foi bissexto\")"
      ],
      "metadata": {
        "id": "250q5t37NmZe",
        "colab": {
          "base_uri": "https://localhost:8080/"
        },
        "outputId": "30b08375-cfc5-4b8e-c4cc-53f7861429f0"
      },
      "execution_count": 55,
      "outputs": [
        {
          "output_type": "stream",
          "name": "stdout",
          "text": [
            "digite algun ano: 2022\n",
            "o ano não foi bissexto\n"
          ]
        }
      ]
    },
    {
      "cell_type": "markdown",
      "source": [
        "---\n",
        "7. Faça um Programa que leia 2 números e em seguida pergunte so usuário qual operação básica(sorna, subtração, multiplicação, divisão, exponenciação) ele deseja realizar. O resultado da operação deve ser acompanhado de uma frase que diga se o número é par ou impar positive ou negativo; inteiro ou decimal."
      ],
      "metadata": {
        "id": "C3imxCGZNmrI"
      }
    },
    {
      "cell_type": "code",
      "source": [
        "import math\n",
        "num1 = 2\n",
        "num2 = 2\n",
        "\n",
        "escolha = input(\"escolha uma operação basica soma, subtração, multiplicação ou divisão: \")\n",
        "\n",
        "\n",
        "if escolha == \"soma\" or escolha == \"SOMA\":\n",
        "  soma = num1 + num2\n",
        "  print(\"resultado \" ,soma)\n",
        "  if soma % 2 == 0:\n",
        "    print(\"o número é par\")\n",
        "  else: print(\"o número é impar\")\n",
        "  if soma > 0:\n",
        "    print(\"o número é positivo\")\n",
        "  elif soma == 0:\n",
        "    print(\" o número é neutro\")\n",
        "  else: print(\"o número é negativo\")\n",
        "  if soma!= int(soma):\n",
        "    print(f\"O número {soma} é decimal.\")\n",
        "  else:\n",
        "    print(f\"O número {int(soma)} é um número inteiro.\")\n",
        "\n",
        "elif escolha == \"subtracao\" or escolha == \"subtração\" or escolha == \"SUBTRACAO\" or escolha == \"SUBTRAÇÃO\":\n",
        "  soma = num1 - num2\n",
        "  print(\"resultado \" ,soma)\n",
        "  if soma % 2 == 0:\n",
        "    print(\"o número é par\")\n",
        "  else: print(\" o número é impar\")\n",
        "  if soma > 0:\n",
        "    print(\"o número é positivo\")\n",
        "  elif soma == 0:\n",
        "    print(\" o número é neutro\")\n",
        "  else: print(\"o número é negativo\")\n",
        "  if soma!= int(soma):\n",
        "    print(f\"O número {soma} é decimal.\")\n",
        "  else:\n",
        "    print(f\"O número {int(soma)} é um número inteiro.\")\n",
        "\n",
        "elif escolha == \"multiplicacao\" or escolha == \"multiplicação\" or escolha == \"MULTIPLICACAO\" or escolha == \"MULTIPLICAÇÃO\":\n",
        "  soma = num1 * num2\n",
        "  print(\"resultado \",soma)\n",
        "  if soma % 2 == 0:\n",
        "    print(\"o número é par\")\n",
        "  else: print(\" o número é impar\")\n",
        "  if soma > 0:\n",
        "    print(\"o número é positivo\")\n",
        "  elif soma == 0:\n",
        "    print(\" o número é neutro\")\n",
        "  else: print(\"o número é negativo\")\n",
        "  if soma!= int(soma):\n",
        "    print(f\"O número {soma} é decimal.\")\n",
        "  else:\n",
        "    print(f\"O número {int(soma)} é um número inteiro.\")\n",
        "\n",
        "elif escolha == \"divisao\" or escolha == \"Divisão\" or escolha == \"DIVISAO\" or escolha == \"DIVISÃO\":\n",
        "  soma = num1 / num2\n",
        "  print(\"resultado \",soma)\n",
        "  if soma % 2 == 0:\n",
        "    print(\"o número é par\")\n",
        "  else: print(\" o número é impar\")\n",
        "  if soma > 0:\n",
        "    print(\"o número é positivo\")\n",
        "  elif soma == 0:\n",
        "    print(\" o número é neutro\")\n",
        "  else: print(\"o número é negativo\")\n",
        "  if soma!= int(soma):\n",
        "    print(f\"O número {soma} é decimal.\")\n",
        "  else:\n",
        "    print(f\"O número {int(soma)} é um número inteiro.\")"
      ],
      "metadata": {
        "id": "gAWFBbHLNpfF",
        "colab": {
          "base_uri": "https://localhost:8080/"
        },
        "outputId": "35e1f327-f0d9-4e12-a176-e8cce7005216"
      },
      "execution_count": 70,
      "outputs": [
        {
          "output_type": "stream",
          "name": "stdout",
          "text": [
            "escolha uma operação basica soma, subtração, multiplicação ou divisão: subtração\n",
            "resultado  0\n",
            "o número é par\n",
            " o número é neutro\n",
            "O número 0 é um número inteiro.\n"
          ]
        }
      ]
    },
    {
      "cell_type": "markdown",
      "source": [
        "---\n",
        "8. Faça um programa que peça a idade e exibe a informação. Os valores aceitáveis devem estar entre 0 e 150. Valores fora desse limite não poderão ser aceitos."
      ],
      "metadata": {
        "id": "OWVe0zsWNqFn"
      }
    },
    {
      "cell_type": "code",
      "source": [
        "idade = int(input(\"qual a sua idade? \"))\n",
        "if idade < 0:\n",
        "  print(\"os valores não podem ser aceitos\")\n",
        "elif idade > 150:\n",
        "  print(\"os valores não podem ser aceitos\")\n",
        "else: print(\"os valores foram coletados!\")"
      ],
      "metadata": {
        "id": "JUk8N42KNtR1",
        "colab": {
          "base_uri": "https://localhost:8080/"
        },
        "outputId": "14a072ac-2b73-42a6-f8d9-314f9c61ac7c"
      },
      "execution_count": 77,
      "outputs": [
        {
          "output_type": "stream",
          "name": "stdout",
          "text": [
            "qual a sua idade? 4\n",
            "os valores foram coletados!\n"
          ]
        }
      ]
    },
    {
      "cell_type": "markdown",
      "source": [
        "---\n",
        "9. Utilizando estruturas de repetição e listas(com ou sem append), faça um programa que leia 5 números e informe a soma e a média dos números"
      ],
      "metadata": {
        "id": "UE5Jqg1rNte4"
      }
    },
    {
      "cell_type": "code",
      "source": [
        "lista = [1, 2, 3, 4]\n",
        "\n",
        "for i in lista:\n",
        "  print(i)\n",
        "soma = (lista[0] + lista[1] + lista[2] + lista[3])\n",
        "print(\"essa é a soma: \", soma)\n",
        "media = len(lista)\n",
        "total = soma / media\n",
        "print(\"essa é a média: \", total)"
      ],
      "metadata": {
        "id": "H_Xs3vEvN1JK",
        "colab": {
          "base_uri": "https://localhost:8080/"
        },
        "outputId": "d8216971-6a65-4416-f9af-e356e8952cdf"
      },
      "execution_count": 85,
      "outputs": [
        {
          "output_type": "stream",
          "name": "stdout",
          "text": [
            "1\n",
            "2\n",
            "3\n",
            "4\n",
            "essa é a soma:  10\n",
            "essa é a média:  2.5\n"
          ]
        }
      ]
    },
    {
      "cell_type": "markdown",
      "source": [
        "---\n",
        "10. Faça um programa que peça um número inteiro e determine se ele é cu não um número primo. Um número primo é aquele que é divisivel somente por ele mesmo e por 1"
      ],
      "metadata": {
        "id": "Urv6BTV4N1x7"
      }
    },
    {
      "cell_type": "code",
      "source": [
        "numero = int(input(\"Digite um número inteiro: \"))\n",
        "\n",
        "primo = True\n",
        "\n",
        "if numero < 2:\n",
        "    primo = False\n",
        "else:\n",
        "    for i in range(2, int(numero**0.5) + 1):\n",
        "        if numero % i == 0:\n",
        "            primo = False\n",
        "            break\n",
        "\n",
        "if primo:\n",
        "    print(f\"{numero} é um número primo.\")\n",
        "else:\n",
        "    print(f\"{numero} não é um número primo.\")"
      ],
      "metadata": {
        "id": "qolerG6EN5dv",
        "colab": {
          "base_uri": "https://localhost:8080/"
        },
        "outputId": "f89016fc-512f-42e0-cbd7-5181367a97a6"
      },
      "execution_count": 87,
      "outputs": [
        {
          "output_type": "stream",
          "name": "stdout",
          "text": [
            "Digite um número inteiro: 17\n",
            "17 é um número primo.\n"
          ]
        }
      ]
    },
    {
      "cell_type": "markdown",
      "source": [
        "---\n",
        "11. 0 Departamento Estadual de Meteorologia the contratou para desenvolver um programa que leie 5 temperaturas, e informe ao final a menor e a maior temperaturas informadas, bem como a média das temperaturas"
      ],
      "metadata": {
        "id": "k5MmtAPAN51n"
      }
    },
    {
      "cell_type": "code",
      "source": [
        "lista = [26,32,28,12,24]\n",
        "print(f\"essa foi a maior temperatura {max(lista)}, e essa foi a menor {min(lista)}\")\n",
        "media = (lista[0] + lista[1] + lista[2] + lista[3] + lista[4]) / 5\n",
        "print(\"essa foi a média: \", media)"
      ],
      "metadata": {
        "id": "Vnwm0QGyN9AY",
        "colab": {
          "base_uri": "https://localhost:8080/"
        },
        "outputId": "7822f271-8e20-4416-d9ef-96b2c6452ee1"
      },
      "execution_count": 93,
      "outputs": [
        {
          "output_type": "stream",
          "name": "stdout",
          "text": [
            "essa foi a maior temperatura 32, e essa foi a menor 12\n",
            "essa foi a média:  24.4\n"
          ]
        }
      ]
    },
    {
      "cell_type": "markdown",
      "source": [
        "---\n",
        "12. Um banco concederá um crédito especial aos seus clientes, variável com o saldo médio no último ano. Faça um algoritmo que leia o saldo médio de um cliente e calcule o valor do crédito de acordo com a tabela abaixo. Mostre uma mensagem informando o saldo média e o valor do crédito\n",
        "\n",
        "Saldo médio - Percentual\n",
        "\n",
        "de 0 a 200 - nenhum crédito\n",
        "\n",
        "de 201 a 400 - 20% do valor do saldo médio\n",
        "\n",
        "de 401 a 600 - 30% do valor do saldo médio\n",
        "\n",
        "acima de 601 - 40% do valor do saldo médio"
      ],
      "metadata": {
        "id": "cGGmzshoN9Pk"
      }
    },
    {
      "cell_type": "code",
      "source": [
        "saldo = 700\n",
        "\n",
        "if saldo <= 200:\n",
        "  print(f\"saldo médio {saldo}, sem crédito\")\n",
        "elif saldo <= 400:\n",
        "  credito = saldo * 0.2\n",
        "  print(f\"saldo médio {saldo}, valor do crédito {credito}\")\n",
        "elif saldo <= 600:\n",
        "  credito = saldo * 0.3\n",
        "  print(f\"saldo médio {saldo}, valor do crédito {credito}\")\n",
        "elif saldo >= 601:\n",
        "  credito = saldo * 0.4\n",
        "  print(f\"saldo médio {saldo}, valor do crédito {credito}\")"
      ],
      "metadata": {
        "id": "NZJYDz9fOU7Z",
        "colab": {
          "base_uri": "https://localhost:8080/"
        },
        "outputId": "9115fcff-0a74-45f0-9a11-b315f16a75c4"
      },
      "execution_count": 97,
      "outputs": [
        {
          "output_type": "stream",
          "name": "stdout",
          "text": [
            "saldo médio 700, valor do crédito 280.0\n"
          ]
        }
      ]
    },
    {
      "cell_type": "markdown",
      "source": [
        "---\n",
        "13. Você foi contratado(a) para fazer um serviço para o INSS (Instituto Nacional do Seguro Social do Brasil. O trabalho consiste criar um programa que diga a pessoa o ano que ela poderá se aposentar. Você deve perguntar a pessoa, o nome, a idade e criar uma mensagem dizendo em qual ano cila irá aposentar, Considera que todas as pessoas poderão se aposentar aos 65 anos de idade(rs)."
      ],
      "metadata": {
        "id": "Y9qOxNN6OVnF"
      }
    },
    {
      "cell_type": "code",
      "source": [
        "idade = int(input(\"informe sua idade por favor: \"))\n",
        "aposentar = 65\n",
        "quantosAnos = aposentar - idade\n",
        "quando = 2024 + quantosAnos\n",
        "\n",
        "print(f\"você tem {idade} anos, só pode se aposentar com {aposentar} anos, você só pode se aponsentar daqui á {quantosAnos} anos, em {quando}\")"
      ],
      "metadata": {
        "id": "mZ9A6LzhOfaL",
        "colab": {
          "base_uri": "https://localhost:8080/"
        },
        "outputId": "a21256b5-b307-473b-e196-15386f0f62b5"
      },
      "execution_count": 102,
      "outputs": [
        {
          "output_type": "stream",
          "name": "stdout",
          "text": [
            "informe sua idade por favor: 18\n",
            "você tem 18 anos, só pode se aposentar com 65 anos, você só pode se aponsentar daqui á 47 anos, em 2071\n"
          ]
        }
      ]
    },
    {
      "cell_type": "markdown",
      "source": [
        "---\n",
        "14. Faça um programa para o cálculo de uma folha de pagamento, sabendo que os descontos são do imposto de Renda, que depende do salário bruto (conforme tabela abaixo), 3% para o Sindicato e que o FGTS corresponde a 11% do salário bruto, mas não é descontado (é a empresa que deposita). O salário líquido corresponde ao salário bruto menos os descontos. O programa deverá pedir ao usuário o valor da sua hora e a quantidade de horas trabalhadas no mês.\n",
        "\n",
        "Desconto do IR:\n",
        "\n",
        "Salário Bruto até R$ 2.112,00 (inclusive) - Isento;\n",
        "\n",
        "De 2.112,01 até 2.826,65 (inclusive) - desconto de 7.5%;\n",
        "\n",
        "De 2.826,66 até 3.751,05 (inclusive) - desconto de 15%;\n",
        "\n",
        "De 3.751,06 até 4.664,68 (inclusive) desconto de 22.5%; Acima de 4.664,68 desconto de 27.5%."
      ],
      "metadata": {
        "id": "nqsk5zfuOfpb"
      }
    },
    {
      "cell_type": "code",
      "source": [
        "valorHora = float(input(\"informe o valor pr hora de trabalho: \")) #média 20\n",
        "horasMes = int(input(\"quantas horas trabalhadas por mês? \")) #média 220\n",
        "salarioBruto = valorHora * horasMes\n",
        "print(f\"esse é o seu salário bruto R${salarioBruto}\")\n",
        "if salarioBruto <= 2122:\n",
        "  print(\"voçê está isento do desconto do IR\")\n",
        "elif salarioBruto <= 2826.65:\n",
        "  naoIsento = salarioBruto * 0.075\n",
        "  total = salarioBruto - naoIsento\n",
        "  print(f\"o desconto do IR de 7.5%: R${naoIsento}, total R${total}\")\n",
        "elif salarioBruto <= 3751.05:\n",
        "  naoIsento = salarioBruto * 0.15\n",
        "  total = salarioBruto - naoIsento\n",
        "  print(f\"o desconto do IR de 15%: R${naoIsento}, total R${total}\")\n",
        "elif salarioBruto <= 4664.68:\n",
        "  naoIsento = salarioBruto * 0.225\n",
        "  total = salarioBruto - naoIsento\n",
        "  print(f\"o desconto do IR de 22,5%: R${naoIsento}, total R${total}\")\n",
        "elif salarioBruto > 4664.68:\n",
        "  naoIsento = salarioBruto * 0.275\n",
        "  total = salarioBruto - naoIsento\n",
        "  print(f\"o desconto do IR de 27.5%: R${naoIsento}, total R${total}\")"
      ],
      "metadata": {
        "id": "MmHo9CahOqJ5",
        "colab": {
          "base_uri": "https://localhost:8080/"
        },
        "outputId": "2ab2bf57-a96b-4894-942b-22e476bfbae4"
      },
      "execution_count": 104,
      "outputs": [
        {
          "output_type": "stream",
          "name": "stdout",
          "text": [
            "informe o valor pr hora de trabalho: 20\n",
            "quantas horas trabalhadas por mês? 220\n",
            "esse é o seu salário bruto R$4400.0\n",
            "o desconto do IR de 22,5%: R$990.0, total R$3410.0\n"
          ]
        }
      ]
    }
  ]
}
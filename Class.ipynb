{
  "nbformat": 4,
  "nbformat_minor": 0,
  "metadata": {
    "colab": {
      "provenance": [],
      "authorship_tag": "ABX9TyNjVMF4DKZvJQteDr/hd4Kb",
      "include_colab_link": true
    },
    "kernelspec": {
      "name": "python3",
      "display_name": "Python 3"
    },
    "language_info": {
      "name": "python"
    }
  },
  "cells": [
    {
      "cell_type": "markdown",
      "metadata": {
        "id": "view-in-github",
        "colab_type": "text"
      },
      "source": [
        "<a href=\"https://colab.research.google.com/github/Richardfcs/Atividade-Python-Aula-senac-Richard-F/blob/main/Class.ipynb\" target=\"_parent\"><img src=\"https://colab.research.google.com/assets/colab-badge.svg\" alt=\"Open In Colab\"/></a>"
      ]
    },
    {
      "cell_type": "code",
      "execution_count": 6,
      "metadata": {
        "id": "FRU35StCSiiz"
      },
      "outputs": [],
      "source": [
        "#Criando uma classe\n",
        "class Animal():\n",
        "\n",
        "  #Construtor da classe\n",
        "  def __init__(self, name, weight, color):\n",
        "    #Atributos\n",
        "    self.nome = name\n",
        "    self.peso = weight\n",
        "    self.codDoPelo = color\n",
        "\n",
        "  def imprimirDados(self):\n",
        "    return(\"Nome: %s \\nPeso: %s\" %(self.nome, self.peso))\n",
        "\n",
        "  def latir(self, barulho):\n",
        "    print(barulho)"
      ]
    },
    {
      "cell_type": "code",
      "source": [
        "#Instanciando um objeto cachorro\n",
        "caozinho = Animal(\"Marlene\",7.9, \"Caramelo\")\n",
        "gato = Animal(\"Cibele\",4.5, \"Cinza\")\n",
        "\n",
        "#Chamando o método do objeto do objeto criado\n",
        "print(caozinho.imprimirDados())\n",
        "caozinho.latir(\"Au, Au! \\n\")\n",
        "\n",
        "print(gato.imprimirDados())\n",
        "gato.latir(\"Miau! \\n\")"
      ],
      "metadata": {
        "colab": {
          "base_uri": "https://localhost:8080/"
        },
        "id": "WqDLAAfHWFCS",
        "outputId": "9c95f4ac-3c2c-449d-eefc-6254c8ca3cd4"
      },
      "execution_count": 9,
      "outputs": [
        {
          "output_type": "stream",
          "name": "stdout",
          "text": [
            "Nome: Marlene \n",
            "Peso: 7.9\n",
            "Au, Au! \n",
            "\n",
            "Nome: Cibele \n",
            "Peso: 4.5\n",
            "Miau! \n",
            "\n"
          ]
        }
      ]
    },
    {
      "cell_type": "code",
      "source": [
        "# Criando a classe livro\n",
        "class Livro():\n",
        "\n",
        "  # o método que inicia cada objeto criado apartir dessa classe\n",
        "  # o nome deste método é __init__\n",
        "  # (self) é uma referência a cada atributo criado apartir desta classe.\n",
        "  def __init__(self):\n",
        "\n",
        "    # Atributos de cada objeto criado a partir desra classe.\n",
        "    # O self indica que estes são atributos dos objetos.\n",
        "    self.titulo = 'O Monge e o Exemplo'\n",
        "    self.isbn = 9988888\n",
        "    print(\"Construtor chamado para criar um objeto desta classe\")\n",
        "\n",
        "  # Métosos são funções, que recebem como parâmetro atributos do objeto criado.\n",
        "  def imprime(self):\n",
        "    print(\"Foi criado o livro %s e ISBN %d\" %(self.titulo, self.isbn))"
      ],
      "metadata": {
        "id": "FUt9LpfqbtRd"
      },
      "execution_count": 14,
      "outputs": []
    },
    {
      "cell_type": "code",
      "source": [
        "Livro1 = Livro()"
      ],
      "metadata": {
        "colab": {
          "base_uri": "https://localhost:8080/"
        },
        "id": "UVdyGmcLe1WD",
        "outputId": "829dac36-9f5b-4ba9-f4c9-295adf1eb3ae"
      },
      "execution_count": 15,
      "outputs": [
        {
          "output_type": "stream",
          "name": "stdout",
          "text": [
            "Construtor chamado para criar um objeto desta classe\n"
          ]
        }
      ]
    },
    {
      "cell_type": "code",
      "source": [
        "# Criando a classe Livro com parâmetros no método construtor\n",
        "class Livro():\n",
        "  def __init__(self, titulo, isbn):\n",
        "    self.titulo = titulo\n",
        "    self.isbn = isbn\n",
        "    print(\"Construtor chamado para criar um objeto desta classe\")\n",
        "\n",
        "  def imprime(self, titulo, isbn):\n",
        "    print(\"Foi criado o livro %s e ISBN %d\" %(self.titulo, self.isbn))"
      ],
      "metadata": {
        "id": "ME9es6A_fnB7"
      },
      "execution_count": 10,
      "outputs": []
    },
    {
      "cell_type": "code",
      "source": [
        "# Criando o objeto Livro2 que é uma instância da classe Livro\n",
        "Livro2 = Livro(\"A Menina que Roubava Livros\", 77886611)"
      ],
      "metadata": {
        "colab": {
          "base_uri": "https://localhost:8080/"
        },
        "id": "7nOCpWjsgiqM",
        "outputId": "ab5b2111-5636-46c5-a849-5c2d63fcbd24"
      },
      "execution_count": 11,
      "outputs": [
        {
          "output_type": "stream",
          "name": "stdout",
          "text": [
            "Construtor chamado para criar um objeto desta classe\n"
          ]
        }
      ]
    },
    {
      "cell_type": "code",
      "source": [
        "Livro2.titulo"
      ],
      "metadata": {
        "colab": {
          "base_uri": "https://localhost:8080/",
          "height": 35
        },
        "id": "1WktgZrohWHu",
        "outputId": "2d2d5ed9-a849-440d-e5be-7fa31b153afa"
      },
      "execution_count": 12,
      "outputs": [
        {
          "output_type": "execute_result",
          "data": {
            "text/plain": [
              "'A Menina que Roubava Livros'"
            ],
            "application/vnd.google.colaboratory.intrinsic+json": {
              "type": "string"
            }
          },
          "metadata": {},
          "execution_count": 12
        }
      ]
    }
  ]
}
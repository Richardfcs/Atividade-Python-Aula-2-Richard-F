{
  "nbformat": 4,
  "nbformat_minor": 0,
  "metadata": {
    "colab": {
      "provenance": [],
      "authorship_tag": "ABX9TyOByAYjDdMJPbHnq37rFmiN",
      "include_colab_link": true
    },
    "kernelspec": {
      "name": "python3",
      "display_name": "Python 3"
    },
    "language_info": {
      "name": "python"
    }
  },
  "cells": [
    {
      "cell_type": "markdown",
      "metadata": {
        "id": "view-in-github",
        "colab_type": "text"
      },
      "source": [
        "<a href=\"https://colab.research.google.com/github/Richardfcs/Atividade-Python-Aula-2-Richard-F/blob/main/for%2C%20while%202.0.ipynb\" target=\"_parent\"><img src=\"https://colab.research.google.com/assets/colab-badge.svg\" alt=\"Open In Colab\"/></a>"
      ]
    },
    {
      "cell_type": "code",
      "execution_count": 26,
      "metadata": {
        "colab": {
          "base_uri": "https://localhost:8080/"
        },
        "id": "vZwxsNljOsJ5",
        "outputId": "948e3e1e-94a1-4463-e0e2-e1147819182f"
      },
      "outputs": [
        {
          "output_type": "stream",
          "name": "stdout",
          "text": [
            "Digite o nome do produto: a\n",
            "Digite o valor do produto: 10\n",
            "0\n"
          ]
        }
      ],
      "source": [
        "for produto in range(0, 4):\n",
        "  p = str(input(\"Digite o nome do produto: \"))\n",
        "  v = float(input(\"Digite o valor do produto: \"))\n",
        "  print(produto)\n",
        "  break"
      ]
    },
    {
      "cell_type": "code",
      "source": [
        "for elemento in [1, 2, 3, 4, 5, 6]:\n",
        "  print('estamos no elemento ', elemento)"
      ],
      "metadata": {
        "colab": {
          "base_uri": "https://localhost:8080/"
        },
        "id": "fTPfBrZTPXpI",
        "outputId": "7acf4f44-1741-4dd5-f044-12b4b35e10f9"
      },
      "execution_count": 3,
      "outputs": [
        {
          "output_type": "stream",
          "name": "stdout",
          "text": [
            "estamos no elemento  1\n",
            "estamos no elemento  2\n",
            "estamos no elemento  3\n",
            "estamos no elemento  4\n",
            "estamos no elemento  5\n",
            "estamos no elemento  6\n"
          ]
        }
      ]
    },
    {
      "cell_type": "code",
      "source": [
        "for elemento in 'STRING':\n",
        "  print('Estamos no elemento', elemento)"
      ],
      "metadata": {
        "colab": {
          "base_uri": "https://localhost:8080/"
        },
        "id": "j4UsNXmHQEOK",
        "outputId": "19cecc4f-8df2-42c8-8ceb-dfbcc148f140"
      },
      "execution_count": 2,
      "outputs": [
        {
          "output_type": "stream",
          "name": "stdout",
          "text": [
            "Estamos no elemento S\n",
            "Estamos no elemento T\n",
            "Estamos no elemento R\n",
            "Estamos no elemento I\n",
            "Estamos no elemento N\n",
            "Estamos no elemento G\n"
          ]
        }
      ]
    },
    {
      "cell_type": "code",
      "source": [
        "for elemento in range(len(\"STRING\")):\n",
        "  print('estamos no elemento ', elemento)"
      ],
      "metadata": {
        "colab": {
          "base_uri": "https://localhost:8080/"
        },
        "id": "5vQcwktkQeUb",
        "outputId": "d9d23136-0e93-4cf6-f347-7335d7e14ecd"
      },
      "execution_count": 9,
      "outputs": [
        {
          "output_type": "stream",
          "name": "stdout",
          "text": [
            "estamos no elemento  0\n",
            "estamos no elemento  1\n",
            "estamos no elemento  2\n",
            "estamos no elemento  3\n",
            "estamos no elemento  4\n",
            "estamos no elemento  5\n"
          ]
        }
      ]
    },
    {
      "cell_type": "code",
      "source": [
        "produto = 0\n",
        "while produto < 4:\n",
        "  p = str(input('Digite o nome do produto: '))\n",
        "  v = float(input(\"Digite o valor do produto: \"))\n",
        "  produto += 1\n",
        "  print(produto)\n",
        "  break"
      ],
      "metadata": {
        "colab": {
          "base_uri": "https://localhost:8080/"
        },
        "id": "ZuE0P4jYRkox",
        "outputId": "85f2289f-741f-4b17-82e1-22e93709c53f"
      },
      "execution_count": 27,
      "outputs": [
        {
          "output_type": "stream",
          "name": "stdout",
          "text": [
            "Digite o nome do produto: 10\n",
            "Digite o valor do produto: 4\n",
            "1\n"
          ]
        }
      ]
    },
    {
      "cell_type": "code",
      "source": [
        "elemento = 0"
      ],
      "metadata": {
        "id": "HScNCkpSTeqj"
      },
      "execution_count": 22,
      "outputs": []
    },
    {
      "cell_type": "code",
      "source": [
        "while elemento <= len([1, 2, 3, 4, 5, 6]):\n",
        "  print('Estamos no elemento ', elemento)\n",
        "  elemento += 1\n",
        ""
      ],
      "metadata": {
        "colab": {
          "base_uri": "https://localhost:8080/"
        },
        "id": "KZZ_poZaTkUh",
        "outputId": "1beb2499-b3a8-48bc-ff33-88504feee2dd"
      },
      "execution_count": 23,
      "outputs": [
        {
          "output_type": "stream",
          "name": "stdout",
          "text": [
            "Estamos no elemento  0\n",
            "Estamos no elemento  1\n",
            "Estamos no elemento  2\n",
            "Estamos no elemento  3\n",
            "Estamos no elemento  4\n",
            "Estamos no elemento  5\n",
            "Estamos no elemento  6\n"
          ]
        }
      ]
    },
    {
      "cell_type": "code",
      "source": [
        "s = 'STRING'\n",
        "indice = 0\n",
        "\n",
        "while indice in range (len (s)):\n",
        "  print('Estamos no elemento ', s[indice])\n",
        "  indice +=1"
      ],
      "metadata": {
        "colab": {
          "base_uri": "https://localhost:8080/"
        },
        "id": "Ccl84MIwUiCq",
        "outputId": "448341a3-e348-4d37-9908-d23bcfba9b01"
      },
      "execution_count": 24,
      "outputs": [
        {
          "output_type": "stream",
          "name": "stdout",
          "text": [
            "Estamos no elemento  S\n",
            "Estamos no elemento  T\n",
            "Estamos no elemento  R\n",
            "Estamos no elemento  I\n",
            "Estamos no elemento  N\n",
            "Estamos no elemento  G\n"
          ]
        }
      ]
    },
    {
      "cell_type": "code",
      "source": [
        "palavra= 'tranquilo'\n",
        "\n",
        "for indice, letra in enumerate(palavra):\n",
        "  print(indice, letra)"
      ],
      "metadata": {
        "colab": {
          "base_uri": "https://localhost:8080/"
        },
        "id": "J9ruM-NuWKCi",
        "outputId": "f8a03566-d030-4333-ee61-fdf729264134"
      },
      "execution_count": 35,
      "outputs": [
        {
          "output_type": "stream",
          "name": "stdout",
          "text": [
            "0 t\n",
            "1 r\n",
            "2 a\n",
            "3 n\n",
            "4 q\n",
            "5 u\n",
            "6 i\n",
            "7 l\n",
            "8 o\n"
          ]
        }
      ]
    },
    {
      "cell_type": "code",
      "source": [
        "lista=['eat', 'sleep', 'repeat']\n",
        "palavra= 'geek'"
      ],
      "metadata": {
        "id": "kjLYGcxMWzW5"
      },
      "execution_count": 36,
      "outputs": []
    },
    {
      "cell_type": "code",
      "source": [
        "objeto1 = enumerate (lista)\n",
        "objeto2 = enumerate (palavra)"
      ],
      "metadata": {
        "id": "3OV8P5qKX0GD"
      },
      "execution_count": 37,
      "outputs": []
    },
    {
      "cell_type": "code",
      "source": [
        "print (\"tipo: \", type(objeto1))\n",
        "print (list(enumerate(objeto1)))"
      ],
      "metadata": {
        "colab": {
          "base_uri": "https://localhost:8080/"
        },
        "id": "hX26MKNHYFIZ",
        "outputId": "69d628c3-9d0a-48c7-c8b1-4ee2f0b65c99"
      },
      "execution_count": 38,
      "outputs": [
        {
          "output_type": "stream",
          "name": "stdout",
          "text": [
            "tipo:  <class 'enumerate'>\n",
            "[(0, (0, 'eat')), (1, (1, 'sleep')), (2, (2, 'repeat'))]\n"
          ]
        }
      ]
    },
    {
      "cell_type": "code",
      "source": [
        "print(list(enumerate(palavra, 2)))"
      ],
      "metadata": {
        "colab": {
          "base_uri": "https://localhost:8080/"
        },
        "id": "YoN9pFS5Y4_L",
        "outputId": "e043d8a1-d1e3-49f1-d6c7-3b1717a20cb2"
      },
      "execution_count": 39,
      "outputs": [
        {
          "output_type": "stream",
          "name": "stdout",
          "text": [
            "[(2, 'g'), (3, 'e'), (4, 'e'), (5, 'k')]\n"
          ]
        }
      ]
    },
    {
      "cell_type": "code",
      "source": [
        "s = \"viva o python\"\n",
        "for ch in s:\n",
        "  print(\"OI\")"
      ],
      "metadata": {
        "colab": {
          "base_uri": "https://localhost:8080/"
        },
        "id": "7QIivkVjZQK6",
        "outputId": "976006b6-58f2-4fed-b988-cf7b7bb1da17"
      },
      "execution_count": 40,
      "outputs": [
        {
          "output_type": "stream",
          "name": "stdout",
          "text": [
            "OI\n",
            "OI\n",
            "OI\n",
            "OI\n",
            "OI\n",
            "OI\n",
            "OI\n",
            "OI\n",
            "OI\n",
            "OI\n",
            "OI\n",
            "OI\n",
            "OI\n"
          ]
        }
      ]
    },
    {
      "cell_type": "code",
      "source": [
        "s = \"viva o phyton\"\n",
        "for ch in s[3:8]:\n",
        "  print(\"Oi\")"
      ],
      "metadata": {
        "colab": {
          "base_uri": "https://localhost:8080/"
        },
        "id": "9i0ZUk7FZ4gj",
        "outputId": "96c0173a-76b8-4717-c145-2ff54ce8cf77"
      },
      "execution_count": 42,
      "outputs": [
        {
          "output_type": "stream",
          "name": "stdout",
          "text": [
            "Oi\n",
            "Oi\n",
            "Oi\n",
            "Oi\n",
            "Oi\n"
          ]
        }
      ]
    },
    {
      "cell_type": "code",
      "source": [
        "while pedirNumero <= 10:\n",
        "  pedirNumero = ()\n",
        "  pedirNumero = int(input(\"escreva um numero:\"))\n",
        "#pedir o numero analizar se é par ou impar\n"
      ],
      "metadata": {
        "id": "viAhREcVamhL"
      },
      "execution_count": null,
      "outputs": []
    },
    {
      "cell_type": "code",
      "source": [
        "#numeros\n",
        "pares = 0\n",
        "neutro = 0\n",
        "impares = 0\n",
        "numero = 0\n",
        "i = 0\n",
        "\n",
        "while i <= 10:\n",
        "  numero = int(input(\"escreva num numero: \"))\n",
        "  if numero == 0:\n",
        "    print(\"numero é neutro\")\n",
        "    neutro += 1\n",
        "  elif numero%2 == 0:\n",
        "    print(\"seu número é par\")\n",
        "    pares += 1\n",
        "  else:\n",
        "    print(\"numero é impar\")\n",
        "    impares += 1\n",
        "\n",
        "  i += 1\n",
        "print(\"os seus numeros informados são os seguintes:\", pares, \"numeros pares,\", impares, \"numeros impares e \", neutro, \"numero neutros\")"
      ],
      "metadata": {
        "colab": {
          "base_uri": "https://localhost:8080/"
        },
        "id": "8sPhXNnfgQ3o",
        "outputId": "e46054ea-539d-4624-d0e6-fccfc4fc6204"
      },
      "execution_count": 78,
      "outputs": [
        {
          "output_type": "stream",
          "name": "stdout",
          "text": [
            "escreva num numero: 1\n",
            "numero é impar\n",
            "escreva num numero: 2\n",
            "seu número é par\n",
            "escreva num numero: 3\n",
            "numero é impar\n",
            "escreva num numero: 4\n",
            "seu número é par\n",
            "escreva num numero: 5\n",
            "numero é impar\n",
            "escreva num numero: 6\n",
            "seu número é par\n",
            "escreva num numero: 7\n",
            "numero é impar\n",
            "escreva num numero: 8\n",
            "seu número é par\n",
            "escreva num numero: 9\n",
            "numero é impar\n",
            "escreva num numero: 10\n",
            "seu número é par\n",
            "escreva num numero: 0\n",
            "numero é neutro\n",
            "os seus numeros informados são os seguintes: 5 numeros pares, 5 numeros impares e  1 numero neutros\n"
          ]
        }
      ]
    }
  ]
}